{
 "cells": [
  {
   "cell_type": "markdown",
   "id": "44ad6e78-6fd9-4951-8d41-27fe88a64687",
   "metadata": {},
   "source": [
    "# Sequence are ordered collections of objects"
   ]
  },
  {
   "cell_type": "markdown",
   "id": "9495f9e0-38e7-43df-b3d8-6dac52d65454",
   "metadata": {},
   "source": [
    "### Creating list using literal"
   ]
  },
  {
   "cell_type": "code",
   "execution_count": 1,
   "id": "14cbaece-8c93-432e-902a-74cc307ce392",
   "metadata": {},
   "outputs": [],
   "source": [
    "l=[1,2,'a','asdf']"
   ]
  },
  {
   "cell_type": "code",
   "execution_count": 2,
   "id": "63bd90db-001e-46c1-8554-e637f4b2fede",
   "metadata": {},
   "outputs": [
    {
     "data": {
      "text/plain": [
       "'asdf'"
      ]
     },
     "execution_count": 2,
     "metadata": {},
     "output_type": "execute_result"
    }
   ],
   "source": [
    "l[-1]"
   ]
  },
  {
   "cell_type": "code",
   "execution_count": 3,
   "id": "33935d2d-3605-47d9-ab5f-fdbdeea669ce",
   "metadata": {},
   "outputs": [
    {
     "data": {
      "text/plain": [
       "list"
      ]
     },
     "execution_count": 3,
     "metadata": {},
     "output_type": "execute_result"
    }
   ],
   "source": [
    "type(l)"
   ]
  },
  {
   "cell_type": "code",
   "execution_count": 4,
   "id": "a026effd-09c4-4eb5-9c93-49cd2fbebc13",
   "metadata": {},
   "outputs": [
    {
     "data": {
      "text/plain": [
       "1"
      ]
     },
     "execution_count": 4,
     "metadata": {},
     "output_type": "execute_result"
    }
   ],
   "source": [
    "l.pop(0)"
   ]
  },
  {
   "cell_type": "code",
   "execution_count": 5,
   "id": "3b4a4ab5-32d7-48ba-a9d6-348a6bb4f76e",
   "metadata": {},
   "outputs": [
    {
     "data": {
      "text/plain": [
       "[2, 'a', 'asdf']"
      ]
     },
     "execution_count": 5,
     "metadata": {},
     "output_type": "execute_result"
    }
   ],
   "source": [
    "l"
   ]
  },
  {
   "cell_type": "code",
   "execution_count": 6,
   "id": "0d18c03b-dceb-41fb-8127-7930db0d5303",
   "metadata": {},
   "outputs": [
    {
     "data": {
      "text/plain": [
       "3"
      ]
     },
     "execution_count": 6,
     "metadata": {},
     "output_type": "execute_result"
    }
   ],
   "source": [
    "len(l)"
   ]
  },
  {
   "cell_type": "code",
   "execution_count": 7,
   "id": "88665b22-e07f-4476-9f9b-21ec61eda0f6",
   "metadata": {},
   "outputs": [
    {
     "data": {
      "text/plain": [
       "(tuple, (2, 'a', 'asdf'))"
      ]
     },
     "execution_count": 7,
     "metadata": {},
     "output_type": "execute_result"
    }
   ],
   "source": [
    "t_from_l = tuple(l)\n",
    "type(t_from_l), t_from_l"
   ]
  },
  {
   "cell_type": "markdown",
   "id": "fcd3a148-c7e1-4f57-bc3d-d1e9bc2a5dc6",
   "metadata": {},
   "source": [
    "### Creating list using function"
   ]
  },
  {
   "cell_type": "code",
   "execution_count": 8,
   "id": "308669c6-a1e2-44c1-bf8e-79758d101ea9",
   "metadata": {},
   "outputs": [],
   "source": [
    "l2 = list()"
   ]
  },
  {
   "cell_type": "code",
   "execution_count": 9,
   "id": "17bb271c-8248-489c-9299-39bf7029a2f9",
   "metadata": {},
   "outputs": [
    {
     "data": {
      "text/plain": [
       "([], list)"
      ]
     },
     "execution_count": 9,
     "metadata": {},
     "output_type": "execute_result"
    }
   ],
   "source": [
    "l2, type(l2)"
   ]
  },
  {
   "cell_type": "markdown",
   "id": "9293a514-bd58-4e06-abb3-de92dede4e83",
   "metadata": {},
   "source": [
    "## Tuples - Unmutable"
   ]
  },
  {
   "cell_type": "markdown",
   "id": "06175973-5406-4d32-baaa-e7e7e89efbef",
   "metadata": {},
   "source": [
    "### Creating tuble using literal"
   ]
  },
  {
   "cell_type": "code",
   "execution_count": 10,
   "id": "6870eac3-bb51-437a-9beb-f4f9af05312c",
   "metadata": {},
   "outputs": [],
   "source": [
    "t=1,'qwe', True"
   ]
  },
  {
   "cell_type": "code",
   "execution_count": 11,
   "id": "a6438b5c-2bb0-449d-a8fc-cc1fa904a6eb",
   "metadata": {},
   "outputs": [
    {
     "data": {
      "text/plain": [
       "(1, 'qwe', True)"
      ]
     },
     "execution_count": 11,
     "metadata": {},
     "output_type": "execute_result"
    }
   ],
   "source": [
    "t"
   ]
  },
  {
   "cell_type": "code",
   "execution_count": 12,
   "id": "f89cc527-f862-4722-af7b-249aa4f13f74",
   "metadata": {},
   "outputs": [
    {
     "data": {
      "text/plain": [
       "tuple"
      ]
     },
     "execution_count": 12,
     "metadata": {},
     "output_type": "execute_result"
    }
   ],
   "source": [
    "type(t)"
   ]
  },
  {
   "cell_type": "code",
   "execution_count": 13,
   "id": "770d6c9a-b9f6-47c5-994c-91204aaa67f8",
   "metadata": {},
   "outputs": [],
   "source": [
    "t2=tuple()"
   ]
  },
  {
   "cell_type": "code",
   "execution_count": 14,
   "id": "99d3366d-3841-4edd-9f64-addfa234d3f9",
   "metadata": {},
   "outputs": [
    {
     "data": {
      "text/plain": [
       "tuple"
      ]
     },
     "execution_count": 14,
     "metadata": {},
     "output_type": "execute_result"
    }
   ],
   "source": [
    "type(t2)"
   ]
  },
  {
   "cell_type": "code",
   "execution_count": 15,
   "id": "8f36d301-64cb-4ffd-b22b-813357698582",
   "metadata": {},
   "outputs": [],
   "source": [
    "\n",
    "t3=1,[1,2,3]"
   ]
  },
  {
   "cell_type": "code",
   "execution_count": 16,
   "id": "9eeec52e-7a0d-4cca-a1a2-e0bcd366275f",
   "metadata": {},
   "outputs": [],
   "source": [
    "t3[1][0] = 4"
   ]
  },
  {
   "cell_type": "code",
   "execution_count": 17,
   "id": "b5a0ba88-cfe8-4c4e-a308-d4084326e3b1",
   "metadata": {},
   "outputs": [
    {
     "data": {
      "text/plain": [
       "(1, [4, 2, 3])"
      ]
     },
     "execution_count": 17,
     "metadata": {},
     "output_type": "execute_result"
    }
   ],
   "source": [
    "t3 "
   ]
  },
  {
   "cell_type": "code",
   "execution_count": 18,
   "id": "df9d4655-7e56-4f71-b502-07e9287d2a91",
   "metadata": {},
   "outputs": [
    {
     "data": {
      "text/plain": [
       "2"
      ]
     },
     "execution_count": 18,
     "metadata": {},
     "output_type": "execute_result"
    }
   ],
   "source": [
    "len(t3)"
   ]
  },
  {
   "cell_type": "code",
   "execution_count": 19,
   "id": "247a8062-4a70-4e49-b42d-223c0c3c6656",
   "metadata": {},
   "outputs": [],
   "source": [
    "lt = list(t3)"
   ]
  },
  {
   "cell_type": "code",
   "execution_count": 20,
   "id": "a3e87177-5ab2-470c-9a49-d4b5f9da7f2c",
   "metadata": {},
   "outputs": [
    {
     "data": {
      "text/plain": [
       "(list, [1, [4, 2, 3]])"
      ]
     },
     "execution_count": 20,
     "metadata": {},
     "output_type": "execute_result"
    }
   ],
   "source": [
    "type(lt), lt"
   ]
  },
  {
   "cell_type": "markdown",
   "id": "fb2525ba-2fc0-434a-a5a0-072ac31be927",
   "metadata": {},
   "source": [
    "## Strings"
   ]
  },
  {
   "cell_type": "code",
   "execution_count": 21,
   "id": "1f45c6b1-7b3e-4e73-a610-6c176ebd5176",
   "metadata": {},
   "outputs": [],
   "source": [
    "s = 'this is a string'"
   ]
  },
  {
   "cell_type": "code",
   "execution_count": 22,
   "id": "ad92c2a2-069f-4fb4-bf46-507d26be2ca8",
   "metadata": {},
   "outputs": [
    {
     "data": {
      "text/plain": [
       "str"
      ]
     },
     "execution_count": 22,
     "metadata": {},
     "output_type": "execute_result"
    }
   ],
   "source": [
    "type(s)"
   ]
  },
  {
   "cell_type": "code",
   "execution_count": 25,
   "id": "7d875b70-e73d-4cd5-a61d-dcb9f0801828",
   "metadata": {},
   "outputs": [],
   "source": [
    "s = str(123)"
   ]
  },
  {
   "cell_type": "code",
   "execution_count": 26,
   "id": "0a296435-9809-499d-9491-172800a3f984",
   "metadata": {},
   "outputs": [
    {
     "data": {
      "text/plain": [
       "str"
      ]
     },
     "execution_count": 26,
     "metadata": {},
     "output_type": "execute_result"
    }
   ],
   "source": [
    "type(s)"
   ]
  },
  {
   "cell_type": "code",
   "execution_count": 28,
   "id": "782cfe29-f545-468d-8d56-e19b8bcff347",
   "metadata": {},
   "outputs": [],
   "source": [
    "t = 1, 2, 3, 'asdf'\n",
    "s = str(t)"
   ]
  },
  {
   "cell_type": "code",
   "execution_count": 30,
   "id": "11ef5e3f-52e4-4e8a-aced-ca3530e799aa",
   "metadata": {},
   "outputs": [
    {
     "data": {
      "text/plain": [
       "('1', ')', \"'\")"
      ]
     },
     "execution_count": 30,
     "metadata": {},
     "output_type": "execute_result"
    }
   ],
   "source": [
    "s[1], s[-1], s[-2]"
   ]
  },
  {
   "cell_type": "code",
   "execution_count": 31,
   "id": "68dfb2ea-8eb7-4b51-a450-24d05b1e833b",
   "metadata": {},
   "outputs": [],
   "source": [
    "s=str([1,2,3])"
   ]
  },
  {
   "cell_type": "code",
   "execution_count": 32,
   "id": "45958afc-3cac-4c74-bba6-adaddb1cbed9",
   "metadata": {},
   "outputs": [
    {
     "data": {
      "text/plain": [
       "'[1, 2, 3]'"
      ]
     },
     "execution_count": 32,
     "metadata": {},
     "output_type": "execute_result"
    }
   ],
   "source": [
    "s"
   ]
  },
  {
   "cell_type": "code",
   "execution_count": 37,
   "id": "df30cd83-0b7f-407e-9789-14373845baea",
   "metadata": {},
   "outputs": [
    {
     "data": {
      "text/plain": [
       "('l', 'u', 'a', ' ', 'c', 'h', 'e', 'g', 'u', 'e', 'i')"
      ]
     },
     "execution_count": 37,
     "metadata": {},
     "output_type": "execute_result"
    }
   ],
   "source": [
    "s='lua cheguei'\n",
    "tuple(s)"
   ]
  },
  {
   "cell_type": "code",
   "execution_count": 38,
   "id": "db597743-5bf8-41ca-a90b-7b3f0d5313de",
   "metadata": {},
   "outputs": [
    {
     "data": {
      "text/plain": [
       "['l', 'u', 'a', ' ', 'c', 'h', 'e', 'g', 'u', 'e', 'i']"
      ]
     },
     "execution_count": 38,
     "metadata": {},
     "output_type": "execute_result"
    }
   ],
   "source": [
    "list(s)"
   ]
  },
  {
   "cell_type": "code",
   "execution_count": 39,
   "id": "4fd7064c-76b1-4746-ab68-f8eb624ac4de",
   "metadata": {},
   "outputs": [
    {
     "data": {
      "text/plain": [
       "['s', 'o', 'm', 'e', ' ', 'w', 'o', 'r', 'd', 's']"
      ]
     },
     "execution_count": 39,
     "metadata": {},
     "output_type": "execute_result"
    }
   ],
   "source": [
    "list('some words')"
   ]
  },
  {
   "cell_type": "code",
   "execution_count": 40,
   "id": "b2d7000a-65f4-4b15-8429-309bd3cb4f82",
   "metadata": {},
   "outputs": [
    {
     "data": {
      "text/plain": [
       "'aaaaaaaaaaaaaaaaaaaa'"
      ]
     },
     "execution_count": 40,
     "metadata": {},
     "output_type": "execute_result"
    }
   ],
   "source": [
    "'a'*20"
   ]
  },
  {
   "cell_type": "code",
   "execution_count": 41,
   "id": "f7c4b631-070d-4a72-b1bd-9266ce9c9284",
   "metadata": {},
   "outputs": [],
   "source": [
    "t=(2, 4, 6) * 3"
   ]
  },
  {
   "cell_type": "code",
   "execution_count": 42,
   "id": "fc400e2a-009c-43f3-ad4f-34a25bdad73c",
   "metadata": {},
   "outputs": [
    {
     "data": {
      "text/plain": [
       "(2, 4, 6, 2, 4, 6, 2, 4, 6)"
      ]
     },
     "execution_count": 42,
     "metadata": {},
     "output_type": "execute_result"
    }
   ],
   "source": [
    "t"
   ]
  },
  {
   "cell_type": "markdown",
   "id": "802757de-3030-4067-9f7d-2f93e94ec307",
   "metadata": {},
   "source": [
    "### Same object"
   ]
  },
  {
   "cell_type": "code",
   "execution_count": 44,
   "id": "a49d4425-cb23-4aaf-a4f1-f713088d519c",
   "metadata": {},
   "outputs": [
    {
     "data": {
      "text/plain": [
       "[[0, 0, 0], [0, 0, 0], [0, 0, 0]]"
      ]
     },
     "execution_count": 44,
     "metadata": {},
     "output_type": "execute_result"
    }
   ],
   "source": [
    "m = [[0, 0, 0]] * 3\n",
    "m"
   ]
  },
  {
   "cell_type": "code",
   "execution_count": 46,
   "id": "ebb6695b-b355-48ce-8604-0783ad2b9216",
   "metadata": {},
   "outputs": [
    {
     "data": {
      "text/plain": [
       "[[1, 0, 0], [1, 0, 0], [1, 0, 0]]"
      ]
     },
     "execution_count": 46,
     "metadata": {},
     "output_type": "execute_result"
    }
   ],
   "source": [
    "m[0][0] = 1\n",
    "m"
   ]
  },
  {
   "cell_type": "markdown",
   "id": "47c8e86e-8ee2-4d63-80a3-154bd7b64023",
   "metadata": {},
   "source": [
    "# Slice\n"
   ]
  },
  {
   "cell_type": "code",
   "execution_count": 49,
   "id": "af58dd61-1915-4a1c-8ae9-6c1bfb9c6620",
   "metadata": {},
   "outputs": [
    {
     "data": {
      "text/plain": [
       "(2, 3, 4, 5)"
      ]
     },
     "execution_count": 49,
     "metadata": {},
     "output_type": "execute_result"
    }
   ],
   "source": [
    "sl = (1,2,3,4,5,6,7)[1:5]\n",
    "sl"
   ]
  },
  {
   "cell_type": "code",
   "execution_count": 65,
   "id": "08612484-7925-498d-b54a-fbfcdd54b0c3",
   "metadata": {},
   "outputs": [
    {
     "data": {
      "text/plain": [
       "(40, 50, 60)"
      ]
     },
     "execution_count": 65,
     "metadata": {},
     "output_type": "execute_result"
    }
   ],
   "source": [
    "tuple(range(0, 100, 10))[4:-3]"
   ]
  },
  {
   "cell_type": "code",
   "execution_count": 69,
   "id": "684f17f3-23c1-4ecd-b31f-929a48f72b90",
   "metadata": {},
   "outputs": [
    {
     "data": {
      "text/plain": [
       "'New'"
      ]
     },
     "execution_count": 69,
     "metadata": {},
     "output_type": "execute_result"
    }
   ],
   "source": [
    "'Isaac Newton'[6:-3]"
   ]
  },
  {
   "cell_type": "markdown",
   "id": "b908debd-b64e-46c1-aaa9-ac889c7ef937",
   "metadata": {},
   "source": [
    "### Slice with steps"
   ]
  },
  {
   "cell_type": "code",
   "execution_count": 70,
   "id": "7ab45000-5cdd-4339-ae6a-76fa541f3d93",
   "metadata": {},
   "outputs": [
    {
     "data": {
      "text/plain": [
       "'IacNwo'"
      ]
     },
     "execution_count": 70,
     "metadata": {},
     "output_type": "execute_result"
    }
   ],
   "source": [
    "'Isaac Newton'[::2]"
   ]
  },
  {
   "cell_type": "code",
   "execution_count": 74,
   "id": "2298694a-ac40-45d4-97db-fea620cec354",
   "metadata": {},
   "outputs": [
    {
     "data": {
      "text/plain": [
       "(0, 10, 20, 30, 40)"
      ]
     },
     "execution_count": 74,
     "metadata": {},
     "output_type": "execute_result"
    }
   ],
   "source": [
    "tuple(range(0,50))[::10]"
   ]
  },
  {
   "cell_type": "code",
   "execution_count": 79,
   "id": "620f96e8-d131-4069-8669-8317212c43e5",
   "metadata": {},
   "outputs": [
    {
     "data": {
      "text/plain": [
       "[17, 15, 13, 11, 9, 7, 5]"
      ]
     },
     "execution_count": 79,
     "metadata": {},
     "output_type": "execute_result"
    }
   ],
   "source": [
    "list(range(1,21,2))[-2:1:-1]"
   ]
  },
  {
   "cell_type": "code",
   "execution_count": 81,
   "id": "02abc137-1edb-4862-b903-68ea0611734e",
   "metadata": {},
   "outputs": [
    {
     "data": {
      "text/plain": [
       "[1, 3, 5, 7, 9, 11, 13, 15, 17, 19]"
      ]
     },
     "execution_count": 81,
     "metadata": {},
     "output_type": "execute_result"
    }
   ],
   "source": [
    "l = list(range(1,21,2))\n",
    "l"
   ]
  },
  {
   "cell_type": "code",
   "execution_count": 82,
   "id": "3b28657f-466f-4bf1-805f-92c090674dab",
   "metadata": {},
   "outputs": [
    {
     "data": {
      "text/plain": [
       "[19, 17, 15, 13]"
      ]
     },
     "execution_count": 82,
     "metadata": {},
     "output_type": "execute_result"
    }
   ],
   "source": [
    "l[:5:-1]"
   ]
  },
  {
   "cell_type": "markdown",
   "id": "5cc360c7-4b60-465d-965d-c192081b3693",
   "metadata": {},
   "source": [
    "### Is a shalow copy"
   ]
  },
  {
   "cell_type": "code",
   "execution_count": 1,
   "id": "92724a10-d83e-401b-9865-7a4db4a19369",
   "metadata": {},
   "outputs": [],
   "source": [
    "l = list(range(1,10))"
   ]
  },
  {
   "cell_type": "code",
   "execution_count": 2,
   "id": "44c44198-9447-4c37-a264-748df99e3902",
   "metadata": {},
   "outputs": [
    {
     "data": {
      "text/plain": [
       "[1, 2, 3, 4, 5, 6, 7, 8, 9]"
      ]
     },
     "execution_count": 2,
     "metadata": {},
     "output_type": "execute_result"
    }
   ],
   "source": [
    "l"
   ]
  },
  {
   "cell_type": "code",
   "execution_count": 3,
   "id": "5ed7f2f3-321f-4244-bd8e-48d29b07c26c",
   "metadata": {},
   "outputs": [],
   "source": [
    "l2 = l[:4]"
   ]
  },
  {
   "cell_type": "code",
   "execution_count": 4,
   "id": "d4512ffa-22bf-41b6-97de-4964c11d8957",
   "metadata": {},
   "outputs": [
    {
     "data": {
      "text/plain": [
       "[1, 2, 3, 4]"
      ]
     },
     "execution_count": 4,
     "metadata": {},
     "output_type": "execute_result"
    }
   ],
   "source": [
    "l2"
   ]
  },
  {
   "cell_type": "code",
   "execution_count": 5,
   "id": "5106d7d2-5196-4c1b-9558-d2711e6d2bb8",
   "metadata": {},
   "outputs": [],
   "source": [
    "l2[0]=9"
   ]
  },
  {
   "cell_type": "code",
   "execution_count": 7,
   "id": "a10964ce-2b75-42f9-97cc-fba472ed8153",
   "metadata": {},
   "outputs": [
    {
     "data": {
      "text/plain": [
       "([9, 2, 3, 4], [1, 2, 3, 4, 5, 6, 7, 8, 9])"
      ]
     },
     "execution_count": 7,
     "metadata": {},
     "output_type": "execute_result"
    }
   ],
   "source": [
    "l2, l"
   ]
  },
  {
   "cell_type": "markdown",
   "id": "ed10c11f-0807-4938-a5c0-3bff66eea535",
   "metadata": {},
   "source": [
    "### Replace parts of a list"
   ]
  },
  {
   "cell_type": "code",
   "execution_count": 11,
   "id": "2df80db1-e429-4352-8418-69e1ede91969",
   "metadata": {},
   "outputs": [
    {
     "data": {
      "text/plain": [
       "['1', '2', '3', '4', '5', '6']"
      ]
     },
     "execution_count": 11,
     "metadata": {},
     "output_type": "execute_result"
    }
   ],
   "source": [
    "l=list('123456')\n",
    "l"
   ]
  },
  {
   "cell_type": "code",
   "execution_count": 12,
   "id": "87ea85e6-2870-4d13-8d58-884d3cb67a08",
   "metadata": {},
   "outputs": [
    {
     "data": {
      "text/plain": [
       "['1', 'asdf', 'rrere', 'd', 'g', '4', '5', '6']"
      ]
     },
     "execution_count": 12,
     "metadata": {},
     "output_type": "execute_result"
    }
   ],
   "source": [
    "l[1:3] = ['asdf', 'rrere', 'd', 'g']\n",
    "l"
   ]
  },
  {
   "cell_type": "code",
   "execution_count": 14,
   "id": "3065921f-b90b-4225-8e88-dba7197bbdb9",
   "metadata": {},
   "outputs": [
    {
     "data": {
      "text/plain": [
       "['1', 'asdf', 'rrere', 'd', 'g', '4', '5', 't', 'y', 'u', 'i', '6']"
      ]
     },
     "execution_count": 14,
     "metadata": {},
     "output_type": "execute_result"
    }
   ],
   "source": [
    "l[-1:-2] = 'tyui'\n",
    "l"
   ]
  },
  {
   "cell_type": "code",
   "execution_count": 15,
   "id": "f45117d4-c3d1-4fee-897f-f7beb7a15cb7",
   "metadata": {},
   "outputs": [
    {
     "data": {
      "text/plain": [
       "['1', 'asdf', 'rrere', 'd', 'g', '4', '5', 't', 'y', 'u', 'i', 1, 2, 3, 4, 5]"
      ]
     },
     "execution_count": 15,
     "metadata": {},
     "output_type": "execute_result"
    }
   ],
   "source": [
    "l[-1:] = (1,2,3,4,5)\n",
    "l"
   ]
  },
  {
   "cell_type": "markdown",
   "id": "916c0e30-d6d0-48ef-aa6d-77cf651a9a17",
   "metadata": {},
   "source": [
    "### Del elements"
   ]
  },
  {
   "cell_type": "code",
   "execution_count": 16,
   "id": "fb65b749-be0e-4752-9ac2-1751aefad7c1",
   "metadata": {},
   "outputs": [
    {
     "data": {
      "text/plain": [
       "[1, 2, 3, 4, 5, 6, 7, 8, 9]"
      ]
     },
     "execution_count": 16,
     "metadata": {},
     "output_type": "execute_result"
    }
   ],
   "source": [
    "l=list(range(1,10))\n",
    "l"
   ]
  },
  {
   "cell_type": "code",
   "execution_count": 17,
   "id": "ce35ffab-e4ab-443b-a2e5-076854fa785b",
   "metadata": {},
   "outputs": [
    {
     "data": {
      "text/plain": [
       "[4, 5, 6, 7, 8, 9]"
      ]
     },
     "execution_count": 17,
     "metadata": {},
     "output_type": "execute_result"
    }
   ],
   "source": [
    "del l[:3]\n",
    "l"
   ]
  },
  {
   "cell_type": "code",
   "execution_count": 18,
   "id": "a7852692-21ae-4885-a891-fafc009c853d",
   "metadata": {},
   "outputs": [
    {
     "data": {
      "text/plain": [
       "[5, 6, 7, 8, 9]"
      ]
     },
     "execution_count": 18,
     "metadata": {},
     "output_type": "execute_result"
    }
   ],
   "source": [
    "del l[0]\n",
    "l"
   ]
  },
  {
   "cell_type": "markdown",
   "id": "98a6ebcd-a668-49b0-af9c-b0425a26c3b8",
   "metadata": {},
   "source": [
    "### Append elements"
   ]
  },
  {
   "cell_type": "code",
   "execution_count": 19,
   "id": "1ded5886-75e2-4634-a5dc-c49ddc4dcbe3",
   "metadata": {},
   "outputs": [
    {
     "data": {
      "text/plain": [
       "[5, 6, 7, 8, 9, 'a']"
      ]
     },
     "execution_count": 19,
     "metadata": {},
     "output_type": "execute_result"
    }
   ],
   "source": [
    "l.append('a')\n",
    "l"
   ]
  },
  {
   "cell_type": "code",
   "execution_count": 20,
   "id": "333e5354-63c2-4238-8ff0-e01fe0c789ca",
   "metadata": {},
   "outputs": [
    {
     "data": {
      "text/plain": [
       "[5, 6, 7, 8, 9, 'a', 'gfsd']"
      ]
     },
     "execution_count": 20,
     "metadata": {},
     "output_type": "execute_result"
    }
   ],
   "source": [
    "l.append('gfsd')\n",
    "l"
   ]
  },
  {
   "cell_type": "code",
   "execution_count": 21,
   "id": "7dd14789-3443-4139-b5a0-45d97c86b0fb",
   "metadata": {},
   "outputs": [
    {
     "data": {
      "text/plain": [
       "[5, 6, 7, 8, 9, 'a', 'gfsd', 'q', 'w', 'e', 'r']"
      ]
     },
     "execution_count": 21,
     "metadata": {},
     "output_type": "execute_result"
    }
   ],
   "source": [
    "l.extend('qwer')\n",
    "l"
   ]
  },
  {
   "cell_type": "code",
   "execution_count": 22,
   "id": "00db8968-faa9-47c3-ae19-003350f4efd1",
   "metadata": {},
   "outputs": [
    {
     "data": {
      "text/plain": [
       "[5, 6, 7, 8, 9, 'a', 'gfsd', 'q', 'w', 'e', 'r', 1, 2, 3]"
      ]
     },
     "execution_count": 22,
     "metadata": {},
     "output_type": "execute_result"
    }
   ],
   "source": [
    "l.extend((1,2,3))\n",
    "l"
   ]
  },
  {
   "cell_type": "markdown",
   "id": "d2c55714-40b3-478a-a931-82f708db3869",
   "metadata": {},
   "source": [
    "### Insert elements - slower"
   ]
  },
  {
   "cell_type": "code",
   "execution_count": 23,
   "id": "1f20fa39-e228-4665-aa36-cd4c7923bc6b",
   "metadata": {},
   "outputs": [
    {
     "data": {
      "text/plain": [
       "[5, 100, 6, 7, 8, 9, 'a', 'gfsd', 'q', 'w', 'e', 'r', 1, 2, 3]"
      ]
     },
     "execution_count": 23,
     "metadata": {},
     "output_type": "execute_result"
    }
   ],
   "source": [
    "l.insert(1, 100)\n",
    "l"
   ]
  },
  {
   "cell_type": "code",
   "execution_count": 24,
   "id": "109168c0-6d68-43c4-862a-bd00d4303432",
   "metadata": {},
   "outputs": [],
   "source": [
    "from timeit import timeit"
   ]
  },
  {
   "cell_type": "code",
   "execution_count": 30,
   "id": "226b2eeb-2bee-4206-b98f-253a4b1ac859",
   "metadata": {},
   "outputs": [
    {
     "data": {
      "text/plain": [
       "0.0017061590001503646"
      ]
     },
     "execution_count": 30,
     "metadata": {},
     "output_type": "execute_result"
    }
   ],
   "source": [
    "l=[]\n",
    "timeit('l.append(1)', globals=globals(), number=100_000)"
   ]
  },
  {
   "cell_type": "code",
   "execution_count": 31,
   "id": "8ab2efb8-4aa4-4a5c-b4c7-326a5e1a9ad4",
   "metadata": {},
   "outputs": [
    {
     "data": {
      "text/plain": [
       "0.9501395570000568"
      ]
     },
     "execution_count": 31,
     "metadata": {},
     "output_type": "execute_result"
    }
   ],
   "source": [
    "l=[]\n",
    "timeit('l.insert(0, 1)', globals=globals(), number=100_000)"
   ]
  },
  {
   "cell_type": "code",
   "execution_count": null,
   "id": "4ef40b3a-0091-40b6-800a-7033afb22a1b",
   "metadata": {},
   "outputs": [],
   "source": []
  }
 ],
 "metadata": {
  "kernelspec": {
   "display_name": "Python 3 (ipykernel)",
   "language": "python",
   "name": "python3"
  },
  "language_info": {
   "codemirror_mode": {
    "name": "ipython",
    "version": 3
   },
   "file_extension": ".py",
   "mimetype": "text/x-python",
   "name": "python",
   "nbconvert_exporter": "python",
   "pygments_lexer": "ipython3",
   "version": "3.12.6"
  }
 },
 "nbformat": 4,
 "nbformat_minor": 5
}
