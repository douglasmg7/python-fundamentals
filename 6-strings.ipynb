{
 "cells": [
  {
   "cell_type": "markdown",
   "id": "a2ce3d92-01d6-4f57-a5d6-3b76eead88d1",
   "metadata": {},
   "source": [
    "# Strings"
   ]
  },
  {
   "cell_type": "markdown",
   "id": "22af41be-57e5-428c-be0b-4674381e1fdd",
   "metadata": {},
   "source": [
    "### Code point for A in decimal"
   ]
  },
  {
   "cell_type": "code",
   "execution_count": 16,
   "id": "9b42eea5-3523-4b1a-9696-bbad31420894",
   "metadata": {},
   "outputs": [
    {
     "data": {
      "text/plain": [
       "65"
      ]
     },
     "execution_count": 16,
     "metadata": {},
     "output_type": "execute_result"
    }
   ],
   "source": [
    "ord('A')"
   ]
  },
  {
   "cell_type": "code",
   "execution_count": 17,
   "id": "53335818-3a7d-4513-9fd6-56dbf2cd7821",
   "metadata": {},
   "outputs": [
    {
     "data": {
      "text/plain": [
       "'0x41'"
      ]
     },
     "execution_count": 17,
     "metadata": {},
     "output_type": "execute_result"
    }
   ],
   "source": [
    "hex(65)"
   ]
  },
  {
   "cell_type": "code",
   "execution_count": 20,
   "id": "aeeb7620-3fff-4e9d-a740-2411b8e3f632",
   "metadata": {},
   "outputs": [
    {
     "data": {
      "text/plain": [
       "65"
      ]
     },
     "execution_count": 20,
     "metadata": {},
     "output_type": "execute_result"
    }
   ],
   "source": [
    "int('41', 16)"
   ]
  },
  {
   "cell_type": "code",
   "execution_count": 18,
   "id": "f3765220-1ec8-4836-ac56-c8fca42f1535",
   "metadata": {},
   "outputs": [
    {
     "name": "stdout",
     "output_type": "stream",
     "text": [
      "945\n",
      "0x3b1\n"
     ]
    }
   ],
   "source": [
    "print(ord('α'))\n",
    "print(hex(ord('α')))"
   ]
  },
  {
   "cell_type": "markdown",
   "id": "f73b9e51-99e8-41a0-b94e-2275b1959d61",
   "metadata": {},
   "source": [
    "## Scape sequence"
   ]
  },
  {
   "cell_type": "code",
   "execution_count": 6,
   "id": "760dc74c-bba8-42c0-b2c3-3e08a42c97f4",
   "metadata": {},
   "outputs": [
    {
     "data": {
      "text/plain": [
       "'🐍'"
      ]
     },
     "execution_count": 6,
     "metadata": {},
     "output_type": "execute_result"
    }
   ],
   "source": [
    "snake = \"\\N{snake}\"\n",
    "snake"
   ]
  },
  {
   "cell_type": "code",
   "execution_count": 21,
   "id": "5275edd5-ff15-40d1-9f97-256090d24628",
   "metadata": {},
   "outputs": [
    {
     "data": {
      "text/plain": [
       "'Some 🐍'"
      ]
     },
     "execution_count": 21,
     "metadata": {},
     "output_type": "execute_result"
    }
   ],
   "source": [
    "\"Some \\N{snake}\""
   ]
  },
  {
   "cell_type": "code",
   "execution_count": 8,
   "id": "d0ae7e43-aafe-4f73-bdee-88af29d09315",
   "metadata": {},
   "outputs": [
    {
     "data": {
      "text/plain": [
       "'0x1f40d'"
      ]
     },
     "execution_count": 8,
     "metadata": {},
     "output_type": "execute_result"
    }
   ],
   "source": [
    "hex(ord(snake))"
   ]
  },
  {
   "cell_type": "code",
   "execution_count": 12,
   "id": "86c5e7c6-e066-4f61-beaa-12ae7f879c5f",
   "metadata": {},
   "outputs": [
    {
     "name": "stdout",
     "output_type": "stream",
     "text": [
      "α\n",
      "0x3b1\n"
     ]
    }
   ],
   "source": [
    "alpha = \"\\N{greek small letter alpha}\"\n",
    "print(alpha)\n",
    "print(hex(ord(alpha)))"
   ]
  },
  {
   "cell_type": "markdown",
   "id": "b2226dc9-d2e8-4439-979b-54587a42bc25",
   "metadata": {},
   "source": [
    "### Should use capital U for eight digits"
   ]
  },
  {
   "cell_type": "code",
   "execution_count": 22,
   "id": "77b1f49a-4148-447d-80fb-650f6b41c3fc",
   "metadata": {},
   "outputs": [
    {
     "data": {
      "text/plain": [
       "'Some 🐍'"
      ]
     },
     "execution_count": 22,
     "metadata": {},
     "output_type": "execute_result"
    }
   ],
   "source": [
    "'Some \\U0001f40d'"
   ]
  },
  {
   "cell_type": "markdown",
   "id": "2121ecc4-315f-4e99-9c75-ad21219ad434",
   "metadata": {},
   "source": [
    "### Use lower u for four digits"
   ]
  },
  {
   "cell_type": "code",
   "execution_count": 26,
   "id": "14e1cc20-4d03-43ba-b6ff-46968d92a1e9",
   "metadata": {},
   "outputs": [
    {
     "data": {
      "text/plain": [
       "'this is A'"
      ]
     },
     "execution_count": 26,
     "metadata": {},
     "output_type": "execute_result"
    }
   ],
   "source": [
    "'this is \\u0041'"
   ]
  },
  {
   "cell_type": "code",
   "execution_count": 27,
   "id": "969fd17e-fea1-49f2-8d8e-d6f7a5629904",
   "metadata": {},
   "outputs": [
    {
     "data": {
      "text/plain": [
       "'this is A'"
      ]
     },
     "execution_count": 27,
     "metadata": {},
     "output_type": "execute_result"
    }
   ],
   "source": [
    "'this is \\U00000041'"
   ]
  },
  {
   "cell_type": "code",
   "execution_count": null,
   "id": "9f45e608-f584-427b-99c9-b9714cb52cee",
   "metadata": {},
   "outputs": [],
   "source": []
  }
 ],
 "metadata": {
  "kernelspec": {
   "display_name": "Python 3 (ipykernel)",
   "language": "python",
   "name": "python3"
  },
  "language_info": {
   "codemirror_mode": {
    "name": "ipython",
    "version": 3
   },
   "file_extension": ".py",
   "mimetype": "text/x-python",
   "name": "python",
   "nbconvert_exporter": "python",
   "pygments_lexer": "ipython3",
   "version": "3.12.6"
  }
 },
 "nbformat": 4,
 "nbformat_minor": 5
}
