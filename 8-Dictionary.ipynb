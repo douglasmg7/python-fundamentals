{
 "cells": [
  {
   "cell_type": "markdown",
   "id": "c2942576-8c24-414c-aebb-41c9d07b97f4",
   "metadata": {},
   "source": [
    "# Dictionary"
   ]
  },
  {
   "cell_type": "code",
   "execution_count": 2,
   "id": "ea7da222-cdab-459f-8fe3-bfe79d39bb58",
   "metadata": {},
   "outputs": [],
   "source": [
    "d = {'a': 1, 'b': 2}"
   ]
  },
  {
   "cell_type": "code",
   "execution_count": 3,
   "id": "0a25542b-21e7-4b2a-a975-24098aa5b89f",
   "metadata": {},
   "outputs": [
    {
     "data": {
      "text/plain": [
       "dict"
      ]
     },
     "execution_count": 3,
     "metadata": {},
     "output_type": "execute_result"
    }
   ],
   "source": [
    "type(d)"
   ]
  },
  {
   "cell_type": "code",
   "execution_count": 4,
   "id": "cdeeadac-a5a4-4224-882f-495a59a97714",
   "metadata": {},
   "outputs": [
    {
     "data": {
      "text/plain": [
       "1"
      ]
     },
     "execution_count": 4,
     "metadata": {},
     "output_type": "execute_result"
    }
   ],
   "source": [
    "d['a']"
   ]
  },
  {
   "cell_type": "code",
   "execution_count": 5,
   "id": "3961c454-316e-4853-9c6d-15b9cd26659d",
   "metadata": {},
   "outputs": [
    {
     "data": {
      "text/plain": [
       "{'a': 1, 'b': 2, 'c': 3}"
      ]
     },
     "execution_count": 5,
     "metadata": {},
     "output_type": "execute_result"
    }
   ],
   "source": [
    "d['c']=3\n",
    "d"
   ]
  },
  {
   "cell_type": "code",
   "execution_count": 6,
   "id": "e7ecab0c-dab2-41ef-a235-d6e060109ba0",
   "metadata": {},
   "outputs": [
    {
     "data": {
      "text/plain": [
       "{'b': 2, 'c': 3}"
      ]
     },
     "execution_count": 6,
     "metadata": {},
     "output_type": "execute_result"
    }
   ],
   "source": [
    "del d['a']\n",
    "d"
   ]
  },
  {
   "cell_type": "markdown",
   "id": "6062efcc-0045-4eea-b100-59e94742f2db",
   "metadata": {},
   "source": [
    "# Discovery if it is hashable"
   ]
  },
  {
   "cell_type": "code",
   "execution_count": 7,
   "id": "c52316e0-b8cc-4542-a718-620cc11c4d6f",
   "metadata": {},
   "outputs": [
    {
     "data": {
      "text/plain": [
       "6800896106170748317"
      ]
     },
     "execution_count": 7,
     "metadata": {},
     "output_type": "execute_result"
    }
   ],
   "source": [
    "hash('asdf')"
   ]
  },
  {
   "cell_type": "code",
   "execution_count": 8,
   "id": "512d69ce-39ff-4c6a-bbf3-eba2e37d5b46",
   "metadata": {},
   "outputs": [
    {
     "ename": "TypeError",
     "evalue": "unhashable type: 'list'",
     "output_type": "error",
     "traceback": [
      "\u001b[0;31m---------------------------------------------------------------------------\u001b[0m",
      "\u001b[0;31mTypeError\u001b[0m                                 Traceback (most recent call last)",
      "Cell \u001b[0;32mIn[8], line 1\u001b[0m\n\u001b[0;32m----> 1\u001b[0m \u001b[38;5;28;43mhash\u001b[39;49m\u001b[43m(\u001b[49m\u001b[43m[\u001b[49m\u001b[38;5;241;43m1\u001b[39;49m\u001b[43m,\u001b[49m\u001b[38;5;241;43m2\u001b[39;49m\u001b[43m,\u001b[49m\u001b[38;5;241;43m3\u001b[39;49m\u001b[43m]\u001b[49m\u001b[43m)\u001b[49m\n",
      "\u001b[0;31mTypeError\u001b[0m: unhashable type: 'list'"
     ]
    }
   ],
   "source": [
    "hash([1,2,3])"
   ]
  },
  {
   "cell_type": "code",
   "execution_count": null,
   "id": "009f3b6d-077a-458a-b591-b04b0ea2a59b",
   "metadata": {},
   "outputs": [],
   "source": [
    "hash((1,2,3))"
   ]
  },
  {
   "cell_type": "markdown",
   "id": "cf5ea352-5cf4-40b5-b64f-1482e2548868",
   "metadata": {},
   "source": [
    "# Dictionary with all defined"
   ]
  },
  {
   "cell_type": "code",
   "execution_count": null,
   "id": "f0c0bcad-5633-421d-ba40-619316d74ad1",
   "metadata": {},
   "outputs": [],
   "source": [
    "globals()"
   ]
  },
  {
   "cell_type": "code",
   "execution_count": null,
   "id": "5a179f24-6741-4613-aa52-fea334319ab3",
   "metadata": {},
   "outputs": [],
   "source": [
    "type(globals())"
   ]
  },
  {
   "cell_type": "code",
   "execution_count": null,
   "id": "381a105b-1c57-43e8-9714-f80f4eddad16",
   "metadata": {},
   "outputs": [],
   "source": [
    "globals()['d']"
   ]
  },
  {
   "cell_type": "markdown",
   "id": "5dd294f5-45e0-4c1c-a759-96bdc2da1248",
   "metadata": {},
   "source": [
    "## Iterate"
   ]
  },
  {
   "cell_type": "code",
   "execution_count": null,
   "id": "83faf3c2-5a82-4a51-a496-805be965c55f",
   "metadata": {},
   "outputs": [],
   "source": [
    "d = {'a': 1, 'b': 2, 'c': 3, 'd': 4}"
   ]
  },
  {
   "cell_type": "code",
   "execution_count": null,
   "id": "d7045c92-626b-4fe2-a910-8bad215a56a0",
   "metadata": {},
   "outputs": [],
   "source": [
    "for val in d:\n",
    "    print(val)"
   ]
  },
  {
   "cell_type": "code",
   "execution_count": null,
   "id": "c6cad5e0-60f2-43db-998e-e51f3045b3de",
   "metadata": {},
   "outputs": [],
   "source": [
    "for v in d.keys():\n",
    "    print(v)"
   ]
  },
  {
   "cell_type": "code",
   "execution_count": null,
   "id": "c22b4b61-f8e8-4395-b44b-d92081e591fa",
   "metadata": {},
   "outputs": [],
   "source": [
    "d.values()"
   ]
  },
  {
   "cell_type": "code",
   "execution_count": null,
   "id": "4bc09c4d-3a88-4490-9743-5915fff3c4ec",
   "metadata": {},
   "outputs": [],
   "source": [
    "for key in d.values():\n",
    "    print(key)"
   ]
  },
  {
   "cell_type": "code",
   "execution_count": null,
   "id": "a8ce2af5-ef92-4f38-9e4c-09fb08e89431",
   "metadata": {},
   "outputs": [],
   "source": [
    "d.items()"
   ]
  },
  {
   "cell_type": "code",
   "execution_count": null,
   "id": "52e63926-f57f-4a2b-a12e-a9845ae4b535",
   "metadata": {},
   "outputs": [],
   "source": [
    "for pair in d.items():\n",
    "    print(pair)"
   ]
  },
  {
   "cell_type": "code",
   "execution_count": null,
   "id": "ef606da4-8289-4494-9efd-a758c4ebf48f",
   "metadata": {},
   "outputs": [],
   "source": [
    "d.keys()"
   ]
  },
  {
   "cell_type": "markdown",
   "id": "dfc60411-f1ac-431f-9533-9540123de5b1",
   "metadata": {},
   "source": [
    "## Check if key exist"
   ]
  },
  {
   "cell_type": "code",
   "execution_count": 10,
   "id": "691b8d3c-78a4-4550-b7b8-0e0ef77a2aa9",
   "metadata": {},
   "outputs": [
    {
     "data": {
      "text/plain": [
       "True"
      ]
     },
     "execution_count": 10,
     "metadata": {},
     "output_type": "execute_result"
    }
   ],
   "source": [
    "'b' in d"
   ]
  },
  {
   "cell_type": "code",
   "execution_count": 11,
   "id": "0833b1d3-efec-40ef-b2c7-eb01f922b286",
   "metadata": {},
   "outputs": [
    {
     "data": {
      "text/plain": [
       "True"
      ]
     },
     "execution_count": 11,
     "metadata": {},
     "output_type": "execute_result"
    }
   ],
   "source": [
    "'a' not in d"
   ]
  },
  {
   "cell_type": "markdown",
   "id": "bcce70ae-c125-44d5-957b-8ce343a75dfe",
   "metadata": {},
   "source": [
    "## Clear the dictionary"
   ]
  },
  {
   "cell_type": "code",
   "execution_count": 12,
   "id": "0319db96-37d8-4707-9553-0e5e006a961f",
   "metadata": {},
   "outputs": [
    {
     "data": {
      "text/plain": [
       "{}"
      ]
     },
     "execution_count": 12,
     "metadata": {},
     "output_type": "execute_result"
    }
   ],
   "source": [
    "d.clear()\n",
    "d"
   ]
  },
  {
   "cell_type": "markdown",
   "id": "69fe3db2-2f3d-4003-8a1f-621fc4395bf3",
   "metadata": {},
   "source": [
    "## Creating from keys"
   ]
  },
  {
   "cell_type": "code",
   "execution_count": 13,
   "id": "91665471-893f-48e5-8744-74d5b7143594",
   "metadata": {},
   "outputs": [
    {
     "data": {
      "text/plain": [
       "{'a': 0, 's': 0, 'd': 0, 'f': 0}"
      ]
     },
     "execution_count": 13,
     "metadata": {},
     "output_type": "execute_result"
    }
   ],
   "source": [
    "d = dict.fromkeys('asdf', 0)\n",
    "d"
   ]
  },
  {
   "cell_type": "markdown",
   "id": "9ad4bfe8-5a7b-4b47-ac51-95b579730f83",
   "metadata": {},
   "source": [
    "## Get a default value if key not exist"
   ]
  },
  {
   "cell_type": "code",
   "execution_count": 16,
   "id": "8a29969f-a6e1-4ac1-87d1-13262b9df380",
   "metadata": {},
   "outputs": [
    {
     "data": {
      "text/plain": [
       "5"
      ]
     },
     "execution_count": 16,
     "metadata": {},
     "output_type": "execute_result"
    }
   ],
   "source": [
    "d.get('h', 5)"
   ]
  },
  {
   "cell_type": "code",
   "execution_count": 20,
   "id": "76285a1b-4a41-4114-b234-ef247509ae7e",
   "metadata": {},
   "outputs": [
    {
     "data": {
      "text/plain": [
       "True"
      ]
     },
     "execution_count": 20,
     "metadata": {},
     "output_type": "execute_result"
    }
   ],
   "source": [
    "result = d.get('h')\n",
    "result == None"
   ]
  },
  {
   "cell_type": "markdown",
   "id": "ba726008-270b-40a2-920c-955a13cfd1ee",
   "metadata": {},
   "source": [
    "## Merge dict"
   ]
  },
  {
   "cell_type": "code",
   "execution_count": 23,
   "id": "bca6cf52-f269-46a7-8177-c9659f10ad0c",
   "metadata": {},
   "outputs": [
    {
     "name": "stdout",
     "output_type": "stream",
     "text": [
      "{'a': 1, 'b': 22, 'c': 3}\n",
      "{'b': 22, 'c': 3}\n"
     ]
    }
   ],
   "source": [
    "d1 = {'a': 1, 'b': 2}\n",
    "d2 = {'b': 22, 'c': 3}\n",
    "d1.update(d2)\n",
    "print(d1)\n",
    "print(d2)"
   ]
  },
  {
   "cell_type": "markdown",
   "id": "25d18055-e5dc-4af6-9181-3abc5eadfe5f",
   "metadata": {},
   "source": [
    "## Creating a list from a dict"
   ]
  },
  {
   "cell_type": "code",
   "execution_count": 29,
   "id": "2a450a89-5719-44f8-8ddc-aacdccd761d1",
   "metadata": {},
   "outputs": [
    {
     "name": "stdout",
     "output_type": "stream",
     "text": [
      "{'asdf': 2, 'sdfg': 2, 'dfgh': 2, 'fghj': 2}\n",
      "['asdf', 'sdfg', 'dfgh', 'fghj']\n",
      "[2, 2, 2, 2]\n"
     ]
    }
   ],
   "source": [
    "l = ['asdf', 'sdfg', 'dfgh', 'fghj']\n",
    "d = dict.fromkeys(l, 2)\n",
    "print(d)\n",
    "print(list(d))\n",
    "print(list(d.values()))"
   ]
  },
  {
   "cell_type": "code",
   "execution_count": null,
   "id": "cc0444ca-f42d-4b41-b122-3082ea991e8a",
   "metadata": {},
   "outputs": [],
   "source": []
  }
 ],
 "metadata": {
  "kernelspec": {
   "display_name": "Python 3 (ipykernel)",
   "language": "python",
   "name": "python3"
  },
  "language_info": {
   "codemirror_mode": {
    "name": "ipython",
    "version": 3
   },
   "file_extension": ".py",
   "mimetype": "text/x-python",
   "name": "python",
   "nbconvert_exporter": "python",
   "pygments_lexer": "ipython3",
   "version": "3.12.6"
  }
 },
 "nbformat": 4,
 "nbformat_minor": 5
}
