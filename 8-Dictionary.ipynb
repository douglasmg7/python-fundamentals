{
 "cells": [
  {
   "cell_type": "markdown",
   "id": "c2942576-8c24-414c-aebb-41c9d07b97f4",
   "metadata": {},
   "source": [
    "# Dictionary"
   ]
  },
  {
   "cell_type": "code",
   "execution_count": 1,
   "id": "ea7da222-cdab-459f-8fe3-bfe79d39bb58",
   "metadata": {},
   "outputs": [],
   "source": [
    "d = {'a': 1, 'b': 2}"
   ]
  },
  {
   "cell_type": "code",
   "execution_count": 2,
   "id": "0a25542b-21e7-4b2a-a975-24098aa5b89f",
   "metadata": {},
   "outputs": [
    {
     "data": {
      "text/plain": [
       "dict"
      ]
     },
     "execution_count": 2,
     "metadata": {},
     "output_type": "execute_result"
    }
   ],
   "source": [
    "type(d)"
   ]
  },
  {
   "cell_type": "code",
   "execution_count": 3,
   "id": "cdeeadac-a5a4-4224-882f-495a59a97714",
   "metadata": {},
   "outputs": [
    {
     "data": {
      "text/plain": [
       "1"
      ]
     },
     "execution_count": 3,
     "metadata": {},
     "output_type": "execute_result"
    }
   ],
   "source": [
    "d['a']"
   ]
  },
  {
   "cell_type": "code",
   "execution_count": 4,
   "id": "3961c454-316e-4853-9c6d-15b9cd26659d",
   "metadata": {},
   "outputs": [
    {
     "data": {
      "text/plain": [
       "{'a': 1, 'b': 2, 'c': 3}"
      ]
     },
     "execution_count": 4,
     "metadata": {},
     "output_type": "execute_result"
    }
   ],
   "source": [
    "d['c']=3\n",
    "d"
   ]
  },
  {
   "cell_type": "code",
   "execution_count": 5,
   "id": "e7ecab0c-dab2-41ef-a235-d6e060109ba0",
   "metadata": {},
   "outputs": [
    {
     "data": {
      "text/plain": [
       "{'b': 2, 'c': 3}"
      ]
     },
     "execution_count": 5,
     "metadata": {},
     "output_type": "execute_result"
    }
   ],
   "source": [
    "del d['a']\n",
    "d"
   ]
  },
  {
   "cell_type": "markdown",
   "id": "6062efcc-0045-4eea-b100-59e94742f2db",
   "metadata": {},
   "source": [
    "# Discovery if it is hashable"
   ]
  },
  {
   "cell_type": "code",
   "execution_count": 8,
   "id": "c52316e0-b8cc-4542-a718-620cc11c4d6f",
   "metadata": {},
   "outputs": [
    {
     "data": {
      "text/plain": [
       "-6371314328347178941"
      ]
     },
     "execution_count": 8,
     "metadata": {},
     "output_type": "execute_result"
    }
   ],
   "source": [
    "hash('asdf')"
   ]
  },
  {
   "cell_type": "code",
   "execution_count": 9,
   "id": "512d69ce-39ff-4c6a-bbf3-eba2e37d5b46",
   "metadata": {},
   "outputs": [
    {
     "ename": "TypeError",
     "evalue": "unhashable type: 'list'",
     "output_type": "error",
     "traceback": [
      "\u001b[0;31m---------------------------------------------------------------------------\u001b[0m",
      "\u001b[0;31mTypeError\u001b[0m                                 Traceback (most recent call last)",
      "Cell \u001b[0;32mIn[9], line 1\u001b[0m\n\u001b[0;32m----> 1\u001b[0m \u001b[38;5;28;43mhash\u001b[39;49m\u001b[43m(\u001b[49m\u001b[43m[\u001b[49m\u001b[38;5;241;43m1\u001b[39;49m\u001b[43m,\u001b[49m\u001b[38;5;241;43m2\u001b[39;49m\u001b[43m,\u001b[49m\u001b[38;5;241;43m3\u001b[39;49m\u001b[43m]\u001b[49m\u001b[43m)\u001b[49m\n",
      "\u001b[0;31mTypeError\u001b[0m: unhashable type: 'list'"
     ]
    }
   ],
   "source": [
    "hash([1,2,3])"
   ]
  },
  {
   "cell_type": "code",
   "execution_count": 10,
   "id": "009f3b6d-077a-458a-b591-b04b0ea2a59b",
   "metadata": {},
   "outputs": [
    {
     "data": {
      "text/plain": [
       "529344067295497451"
      ]
     },
     "execution_count": 10,
     "metadata": {},
     "output_type": "execute_result"
    }
   ],
   "source": [
    "hash((1,2,3))"
   ]
  },
  {
   "cell_type": "markdown",
   "id": "cf5ea352-5cf4-40b5-b64f-1482e2548868",
   "metadata": {},
   "source": [
    "# Dictionary with all defined"
   ]
  },
  {
   "cell_type": "code",
   "execution_count": 12,
   "id": "f0c0bcad-5633-421d-ba40-619316d74ad1",
   "metadata": {},
   "outputs": [
    {
     "data": {
      "text/plain": [
       "{'__name__': '__main__',\n",
       " '__doc__': 'Automatically created module for IPython interactive environment',\n",
       " '__package__': None,\n",
       " '__loader__': None,\n",
       " '__spec__': None,\n",
       " '__builtin__': <module 'builtins' (built-in)>,\n",
       " '__builtins__': <module 'builtins' (built-in)>,\n",
       " '_ih': ['',\n",
       "  \"d = {'a': 1, 'b': 2}\",\n",
       "  'type(d)',\n",
       "  \"d['a']\",\n",
       "  \"d['c']=3\\nd\",\n",
       "  \"del d['a']\\nd\",\n",
       "  'hash(1)',\n",
       "  'hash(123)',\n",
       "  \"hash('asdf')\",\n",
       "  'hash([1,2,3])',\n",
       "  'hash((1,2,3))',\n",
       "  'globals',\n",
       "  'globals()'],\n",
       " '_oh': {2: dict,\n",
       "  3: 1,\n",
       "  4: {'b': 2, 'c': 3},\n",
       "  5: {'b': 2, 'c': 3},\n",
       "  6: 1,\n",
       "  7: 123,\n",
       "  8: -6371314328347178941,\n",
       "  10: 529344067295497451,\n",
       "  11: <function globals()>},\n",
       " '_dh': [PosixPath('/home/douglasmg7/code/python-fundamentals')],\n",
       " 'In': ['',\n",
       "  \"d = {'a': 1, 'b': 2}\",\n",
       "  'type(d)',\n",
       "  \"d['a']\",\n",
       "  \"d['c']=3\\nd\",\n",
       "  \"del d['a']\\nd\",\n",
       "  'hash(1)',\n",
       "  'hash(123)',\n",
       "  \"hash('asdf')\",\n",
       "  'hash([1,2,3])',\n",
       "  'hash((1,2,3))',\n",
       "  'globals',\n",
       "  'globals()'],\n",
       " 'Out': {2: dict,\n",
       "  3: 1,\n",
       "  4: {'b': 2, 'c': 3},\n",
       "  5: {'b': 2, 'c': 3},\n",
       "  6: 1,\n",
       "  7: 123,\n",
       "  8: -6371314328347178941,\n",
       "  10: 529344067295497451,\n",
       "  11: <function globals()>},\n",
       " 'get_ipython': <bound method InteractiveShell.get_ipython of <ipykernel.zmqshell.ZMQInteractiveShell object at 0x76640d98b080>>,\n",
       " 'exit': <IPython.core.autocall.ZMQExitAutocall at 0x76640e2a3bc0>,\n",
       " 'quit': <IPython.core.autocall.ZMQExitAutocall at 0x76640e2a3bc0>,\n",
       " 'open': <function _io.open(file, mode='r', buffering=-1, encoding=None, errors=None, newline=None, closefd=True, opener=None)>,\n",
       " '_': <function globals()>,\n",
       " '__': 529344067295497451,\n",
       " '___': -6371314328347178941,\n",
       " '__session__': '/home/douglasmg7/code/python-fundamentals/Untitled.ipynb',\n",
       " '_i': 'globals',\n",
       " '_ii': 'hash((1,2,3))',\n",
       " '_iii': 'hash([1,2,3])',\n",
       " '_i1': \"d = {'a': 1, 'b': 2}\",\n",
       " 'd': {'b': 2, 'c': 3},\n",
       " '_i2': 'type(d)',\n",
       " '_2': dict,\n",
       " '_i3': \"d['a']\",\n",
       " '_3': 1,\n",
       " '_i4': \"d['c']=3\\nd\",\n",
       " '_4': {'b': 2, 'c': 3},\n",
       " '_i5': \"del d['a']\\nd\",\n",
       " '_5': {'b': 2, 'c': 3},\n",
       " '_i6': 'hash(1)',\n",
       " '_6': 1,\n",
       " '_i7': 'hash(123)',\n",
       " '_7': 123,\n",
       " '_i8': \"hash('asdf')\",\n",
       " '_8': -6371314328347178941,\n",
       " '_i9': 'hash([1,2,3])',\n",
       " '_i10': 'hash((1,2,3))',\n",
       " '_10': 529344067295497451,\n",
       " '_i11': 'globals',\n",
       " '_11': <function globals()>,\n",
       " '_i12': 'globals()'}"
      ]
     },
     "execution_count": 12,
     "metadata": {},
     "output_type": "execute_result"
    }
   ],
   "source": [
    "globals()"
   ]
  },
  {
   "cell_type": "code",
   "execution_count": 14,
   "id": "5a179f24-6741-4613-aa52-fea334319ab3",
   "metadata": {},
   "outputs": [
    {
     "data": {
      "text/plain": [
       "dict"
      ]
     },
     "execution_count": 14,
     "metadata": {},
     "output_type": "execute_result"
    }
   ],
   "source": [
    "type(globals())"
   ]
  },
  {
   "cell_type": "code",
   "execution_count": 15,
   "id": "381a105b-1c57-43e8-9714-f80f4eddad16",
   "metadata": {},
   "outputs": [
    {
     "data": {
      "text/plain": [
       "{'b': 2, 'c': 3}"
      ]
     },
     "execution_count": 15,
     "metadata": {},
     "output_type": "execute_result"
    }
   ],
   "source": [
    "globals()['d']"
   ]
  },
  {
   "cell_type": "markdown",
   "id": "5dd294f5-45e0-4c1c-a759-96bdc2da1248",
   "metadata": {},
   "source": [
    "## Iterate"
   ]
  },
  {
   "cell_type": "code",
   "execution_count": 16,
   "id": "83faf3c2-5a82-4a51-a496-805be965c55f",
   "metadata": {},
   "outputs": [],
   "source": [
    "d = {'a': 1, 'b': 2, 'c': 3, 'd': 4}"
   ]
  },
  {
   "cell_type": "code",
   "execution_count": 17,
   "id": "d7045c92-626b-4fe2-a910-8bad215a56a0",
   "metadata": {},
   "outputs": [
    {
     "name": "stdout",
     "output_type": "stream",
     "text": [
      "a\n",
      "b\n",
      "c\n",
      "d\n"
     ]
    }
   ],
   "source": [
    "for val in d:\n",
    "    print(val)"
   ]
  },
  {
   "cell_type": "code",
   "execution_count": 25,
   "id": "c6cad5e0-60f2-43db-998e-e51f3045b3de",
   "metadata": {},
   "outputs": [
    {
     "name": "stdout",
     "output_type": "stream",
     "text": [
      "a\n",
      "b\n",
      "c\n",
      "d\n"
     ]
    }
   ],
   "source": [
    "for v in d.keys():\n",
    "    print(v)"
   ]
  },
  {
   "cell_type": "code",
   "execution_count": 20,
   "id": "c22b4b61-f8e8-4395-b44b-d92081e591fa",
   "metadata": {},
   "outputs": [
    {
     "data": {
      "text/plain": [
       "dict_values([1, 2, 3, 4])"
      ]
     },
     "execution_count": 20,
     "metadata": {},
     "output_type": "execute_result"
    }
   ],
   "source": [
    "d.values()"
   ]
  },
  {
   "cell_type": "code",
   "execution_count": 21,
   "id": "4bc09c4d-3a88-4490-9743-5915fff3c4ec",
   "metadata": {},
   "outputs": [
    {
     "name": "stdout",
     "output_type": "stream",
     "text": [
      "1\n",
      "2\n",
      "3\n",
      "4\n"
     ]
    }
   ],
   "source": [
    "for key in d.values():\n",
    "    print(key)"
   ]
  },
  {
   "cell_type": "code",
   "execution_count": 22,
   "id": "a8ce2af5-ef92-4f38-9e4c-09fb08e89431",
   "metadata": {},
   "outputs": [
    {
     "data": {
      "text/plain": [
       "dict_items([('a', 1), ('b', 2), ('c', 3), ('d', 4)])"
      ]
     },
     "execution_count": 22,
     "metadata": {},
     "output_type": "execute_result"
    }
   ],
   "source": [
    "d.items()"
   ]
  },
  {
   "cell_type": "code",
   "execution_count": 23,
   "id": "52e63926-f57f-4a2b-a12e-a9845ae4b535",
   "metadata": {},
   "outputs": [
    {
     "name": "stdout",
     "output_type": "stream",
     "text": [
      "('a', 1)\n",
      "('b', 2)\n",
      "('c', 3)\n",
      "('d', 4)\n"
     ]
    }
   ],
   "source": [
    "for pair in d.items():\n",
    "    print(pair)"
   ]
  },
  {
   "cell_type": "code",
   "execution_count": 24,
   "id": "ef606da4-8289-4494-9efd-a758c4ebf48f",
   "metadata": {},
   "outputs": [
    {
     "data": {
      "text/plain": [
       "dict_keys(['a', 'b', 'c', 'd'])"
      ]
     },
     "execution_count": 24,
     "metadata": {},
     "output_type": "execute_result"
    }
   ],
   "source": [
    "d.keys()"
   ]
  },
  {
   "cell_type": "code",
   "execution_count": null,
   "id": "7dc4e737-5ea4-4217-9be3-7ff5815b4e2b",
   "metadata": {},
   "outputs": [],
   "source": []
  }
 ],
 "metadata": {
  "kernelspec": {
   "display_name": "Python 3 (ipykernel)",
   "language": "python",
   "name": "python3"
  },
  "language_info": {
   "codemirror_mode": {
    "name": "ipython",
    "version": 3
   },
   "file_extension": ".py",
   "mimetype": "text/x-python",
   "name": "python",
   "nbconvert_exporter": "python",
   "pygments_lexer": "ipython3",
   "version": "3.12.6"
  }
 },
 "nbformat": 4,
 "nbformat_minor": 5
}
