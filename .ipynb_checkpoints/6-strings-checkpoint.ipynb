{
 "cells": [
  {
   "cell_type": "markdown",
   "id": "a2ce3d92-01d6-4f57-a5d6-3b76eead88d1",
   "metadata": {},
   "source": [
    "# Strings"
   ]
  },
  {
   "cell_type": "markdown",
   "id": "22af41be-57e5-428c-be0b-4674381e1fdd",
   "metadata": {},
   "source": [
    "### Code point for A in decimal"
   ]
  },
  {
   "cell_type": "code",
   "execution_count": 16,
   "id": "9b42eea5-3523-4b1a-9696-bbad31420894",
   "metadata": {},
   "outputs": [
    {
     "data": {
      "text/plain": [
       "65"
      ]
     },
     "execution_count": 16,
     "metadata": {},
     "output_type": "execute_result"
    }
   ],
   "source": [
    "ord('A')"
   ]
  },
  {
   "cell_type": "code",
   "execution_count": 17,
   "id": "53335818-3a7d-4513-9fd6-56dbf2cd7821",
   "metadata": {},
   "outputs": [
    {
     "data": {
      "text/plain": [
       "'0x41'"
      ]
     },
     "execution_count": 17,
     "metadata": {},
     "output_type": "execute_result"
    }
   ],
   "source": [
    "hex(65)"
   ]
  },
  {
   "cell_type": "code",
   "execution_count": 20,
   "id": "aeeb7620-3fff-4e9d-a740-2411b8e3f632",
   "metadata": {},
   "outputs": [
    {
     "data": {
      "text/plain": [
       "65"
      ]
     },
     "execution_count": 20,
     "metadata": {},
     "output_type": "execute_result"
    }
   ],
   "source": [
    "int('41', 16)"
   ]
  },
  {
   "cell_type": "code",
   "execution_count": 18,
   "id": "f3765220-1ec8-4836-ac56-c8fca42f1535",
   "metadata": {},
   "outputs": [
    {
     "name": "stdout",
     "output_type": "stream",
     "text": [
      "945\n",
      "0x3b1\n"
     ]
    }
   ],
   "source": [
    "print(ord('α'))\n",
    "print(hex(ord('α')))"
   ]
  },
  {
   "cell_type": "markdown",
   "id": "f73b9e51-99e8-41a0-b94e-2275b1959d61",
   "metadata": {},
   "source": [
    "## Scape sequence"
   ]
  },
  {
   "cell_type": "code",
   "execution_count": 6,
   "id": "760dc74c-bba8-42c0-b2c3-3e08a42c97f4",
   "metadata": {},
   "outputs": [
    {
     "data": {
      "text/plain": [
       "'🐍'"
      ]
     },
     "execution_count": 6,
     "metadata": {},
     "output_type": "execute_result"
    }
   ],
   "source": [
    "snake = \"\\N{snake}\"\n",
    "snake"
   ]
  },
  {
   "cell_type": "code",
   "execution_count": 21,
   "id": "5275edd5-ff15-40d1-9f97-256090d24628",
   "metadata": {},
   "outputs": [
    {
     "data": {
      "text/plain": [
       "'Some 🐍'"
      ]
     },
     "execution_count": 21,
     "metadata": {},
     "output_type": "execute_result"
    }
   ],
   "source": [
    "\"Some \\N{snake}\""
   ]
  },
  {
   "cell_type": "code",
   "execution_count": 8,
   "id": "d0ae7e43-aafe-4f73-bdee-88af29d09315",
   "metadata": {},
   "outputs": [
    {
     "data": {
      "text/plain": [
       "'0x1f40d'"
      ]
     },
     "execution_count": 8,
     "metadata": {},
     "output_type": "execute_result"
    }
   ],
   "source": [
    "hex(ord(snake))"
   ]
  },
  {
   "cell_type": "code",
   "execution_count": 12,
   "id": "86c5e7c6-e066-4f61-beaa-12ae7f879c5f",
   "metadata": {},
   "outputs": [
    {
     "name": "stdout",
     "output_type": "stream",
     "text": [
      "α\n",
      "0x3b1\n"
     ]
    }
   ],
   "source": [
    "alpha = \"\\N{greek small letter alpha}\"\n",
    "print(alpha)\n",
    "print(hex(ord(alpha)))"
   ]
  },
  {
   "cell_type": "markdown",
   "id": "b2226dc9-d2e8-4439-979b-54587a42bc25",
   "metadata": {},
   "source": [
    "### Should use capital U for eight digits"
   ]
  },
  {
   "cell_type": "code",
   "execution_count": 22,
   "id": "77b1f49a-4148-447d-80fb-650f6b41c3fc",
   "metadata": {},
   "outputs": [
    {
     "data": {
      "text/plain": [
       "'Some 🐍'"
      ]
     },
     "execution_count": 22,
     "metadata": {},
     "output_type": "execute_result"
    }
   ],
   "source": [
    "'Some \\U0001f40d'"
   ]
  },
  {
   "cell_type": "markdown",
   "id": "2121ecc4-315f-4e99-9c75-ad21219ad434",
   "metadata": {},
   "source": [
    "### Use lower u for four digits"
   ]
  },
  {
   "cell_type": "code",
   "execution_count": 26,
   "id": "14e1cc20-4d03-43ba-b6ff-46968d92a1e9",
   "metadata": {},
   "outputs": [
    {
     "data": {
      "text/plain": [
       "'this is A'"
      ]
     },
     "execution_count": 26,
     "metadata": {},
     "output_type": "execute_result"
    }
   ],
   "source": [
    "'this is \\u0041'"
   ]
  },
  {
   "cell_type": "code",
   "execution_count": 27,
   "id": "969fd17e-fea1-49f2-8d8e-d6f7a5629904",
   "metadata": {},
   "outputs": [
    {
     "data": {
      "text/plain": [
       "'this is A'"
      ]
     },
     "execution_count": 27,
     "metadata": {},
     "output_type": "execute_result"
    }
   ],
   "source": [
    "'this is \\U00000041'"
   ]
  },
  {
   "cell_type": "markdown",
   "id": "d9e230c4-50f5-4a9e-b606-4f7c503b102c",
   "metadata": {},
   "source": [
    "## Case mapping"
   ]
  },
  {
   "cell_type": "code",
   "execution_count": 2,
   "id": "bfcece1e-d060-4e23-9674-f2e95fe6a9af",
   "metadata": {},
   "outputs": [
    {
     "name": "stdout",
     "output_type": "stream",
     "text": [
      "quantas vezes teho que te dizer!\n",
      "QUANTAS VEZES TEHO QUE TE DIZER!\n",
      "Quantas Vezes Teho Que Te Dizer!\n"
     ]
    }
   ],
   "source": [
    "s = 'quantas vezes teho que te dizer!'\n",
    "print(s.lower())\n",
    "print(s.upper())\n",
    "print(s.title())"
   ]
  },
  {
   "cell_type": "markdown",
   "id": "787b7d30-5175-4f13-9bef-0b4e6d388783",
   "metadata": {},
   "source": [
    "### Correct way to mekae comparison"
   ]
  },
  {
   "cell_type": "code",
   "execution_count": 6,
   "id": "f3aa68c7-cace-481b-946c-609704e5a5da",
   "metadata": {},
   "outputs": [
    {
     "data": {
      "text/plain": [
       "True"
      ]
     },
     "execution_count": 6,
     "metadata": {},
     "output_type": "execute_result"
    }
   ],
   "source": [
    "s1='hellO'\n",
    "s2='HeLLo'\n",
    "s1.casefold() == s2.casefold()"
   ]
  },
  {
   "cell_type": "markdown",
   "id": "8e600450-aa8a-4509-a1b8-d4a90aa5dd02",
   "metadata": {},
   "source": [
    "### Strippping"
   ]
  },
  {
   "cell_type": "code",
   "execution_count": 9,
   "id": "e98221a6-5040-4efa-8cb6-9d3d59018d9e",
   "metadata": {},
   "outputs": [
    {
     "name": "stdout",
     "output_type": "stream",
     "text": [
      "-asdf asdf-\n",
      "-asdf asdf   -\n",
      "-  asdf asdf-\n"
     ]
    }
   ],
   "source": [
    "s = '  asdf asdf   '\n",
    "print('-' + s.strip() + '-')\n",
    "print('-' + s.lstrip() + '-')\n",
    "print('-' + s.rstrip() + '-')"
   ]
  },
  {
   "cell_type": "code",
   "execution_count": 12,
   "id": "da4918f7-9ade-4a1c-bc1c-4047af5713d4",
   "metadata": {},
   "outputs": [
    {
     "name": "stdout",
     "output_type": "stream",
     "text": [
      "- lá vamos nóis-\n"
     ]
    }
   ],
   "source": [
    "s = 'abc lá vamos nóis'\n",
    "print('-' + s.lstrip('abc') + '-')"
   ]
  },
  {
   "cell_type": "markdown",
   "id": "3ada023c-2346-465a-b359-fa1a3092d9d2",
   "metadata": {},
   "source": [
    "### Splitting"
   ]
  },
  {
   "cell_type": "code",
   "execution_count": 18,
   "id": "cb51a6f9-fad9-4368-8257-8e8e0f63f36f",
   "metadata": {},
   "outputs": [
    {
     "data": {
      "text/plain": [
       "['100', '200', '300', '400']"
      ]
     },
     "execution_count": 18,
     "metadata": {},
     "output_type": "execute_result"
    }
   ],
   "source": [
    "data = '100, 200, 300, 400'\n",
    "data.split(', ')"
   ]
  },
  {
   "cell_type": "code",
   "execution_count": 36,
   "id": "a931044d-ed83-417c-a2bf-f6311fd13793",
   "metadata": {},
   "outputs": [
    {
     "name": "stdout",
     "output_type": "stream",
     "text": [
      "Lúcia\n",
      "Andrade\n"
     ]
    }
   ],
   "source": [
    "first_name, last_name = 'Lúcia Andrade'.split(' ')\n",
    "print(first_name)\n",
    "print(last_name)"
   ]
  },
  {
   "cell_type": "markdown",
   "id": "5b530dc3-c920-4825-844c-7d7c8659ccac",
   "metadata": {},
   "source": [
    "### Joining string"
   ]
  },
  {
   "cell_type": "code",
   "execution_count": 22,
   "id": "98ed9158-72f2-4d42-895f-13b495053f01",
   "metadata": {},
   "outputs": [
    {
     "data": {
      "text/plain": [
       "'p-y-t-h-o-n'"
      ]
     },
     "execution_count": 22,
     "metadata": {},
     "output_type": "execute_result"
    }
   ],
   "source": [
    "'-'.join('python')"
   ]
  },
  {
   "cell_type": "markdown",
   "id": "ebd7643d-1cf1-4b96-9fb7-7d7c8c5e783c",
   "metadata": {},
   "source": [
    "### Find substring"
   ]
  },
  {
   "cell_type": "code",
   "execution_count": 23,
   "id": "d85d8b0c-ac2a-4b32-b0f1-b59cbd4aa0a3",
   "metadata": {},
   "outputs": [
    {
     "data": {
      "text/plain": [
       "True"
      ]
     },
     "execution_count": 23,
     "metadata": {},
     "output_type": "execute_result"
    }
   ],
   "source": [
    "'py' in 'python'"
   ]
  },
  {
   "cell_type": "code",
   "execution_count": 24,
   "id": "437bf5ff-9daf-4a37-8cbb-aa4b96e34451",
   "metadata": {},
   "outputs": [
    {
     "data": {
      "text/plain": [
       "True"
      ]
     },
     "execution_count": 24,
     "metadata": {},
     "output_type": "execute_result"
    }
   ],
   "source": [
    "'python'.startswith('pyt')"
   ]
  },
  {
   "cell_type": "code",
   "execution_count": 26,
   "id": "f289abdb-b4e3-460f-b0e6-fac2e48bc845",
   "metadata": {},
   "outputs": [
    {
     "data": {
      "text/plain": [
       "True"
      ]
     },
     "execution_count": 26,
     "metadata": {},
     "output_type": "execute_result"
    }
   ],
   "source": [
    "'python'.endswith('on')"
   ]
  },
  {
   "cell_type": "code",
   "execution_count": 37,
   "id": "28b20439-530d-4044-b327-3100f1f0f094",
   "metadata": {},
   "outputs": [
    {
     "data": {
      "text/plain": [
       "True"
      ]
     },
     "execution_count": 37,
     "metadata": {},
     "output_type": "execute_result"
    }
   ],
   "source": [
    "2 in [1, 2, 3] "
   ]
  },
  {
   "cell_type": "markdown",
   "id": "191cc91c-00bf-4636-bc78-df3e33d9865e",
   "metadata": {},
   "source": [
    "### Slower than in"
   ]
  },
  {
   "cell_type": "code",
   "execution_count": 31,
   "id": "0ce131aa-b408-487f-9cc1-a5e9290e7b2d",
   "metadata": {},
   "outputs": [
    {
     "data": {
      "text/plain": [
       "8"
      ]
     },
     "execution_count": 31,
     "metadata": {},
     "output_type": "execute_result"
    }
   ],
   "source": [
    "'uma vez aqui ou aqui'.index('aqui')"
   ]
  },
  {
   "cell_type": "code",
   "execution_count": 40,
   "id": "804ec131-1479-43e5-bc1f-35a4b967d2f6",
   "metadata": {},
   "outputs": [
    {
     "data": {
      "text/plain": [
       "16"
      ]
     },
     "execution_count": 40,
     "metadata": {},
     "output_type": "execute_result"
    }
   ],
   "source": [
    "'uma vez aqui ou aqui'.index('aqui', 9)"
   ]
  },
  {
   "cell_type": "code",
   "execution_count": 33,
   "id": "103b3ba2-7b30-424c-a955-08bbc17cde2e",
   "metadata": {},
   "outputs": [
    {
     "name": "stdout",
     "output_type": "stream",
     "text": [
      "8\n",
      "-1\n"
     ]
    }
   ],
   "source": [
    "print('uma vez aqui ou aqui'.find('aqui'))\n",
    "print('uma vez aqui ou aqui'.find('aquii'))"
   ]
  },
  {
   "cell_type": "code",
   "execution_count": 38,
   "id": "dd809970-4735-4e3f-bef5-b41497388b71",
   "metadata": {},
   "outputs": [
    {
     "data": {
      "text/plain": [
       "1"
      ]
     },
     "execution_count": 38,
     "metadata": {},
     "output_type": "execute_result"
    }
   ],
   "source": [
    "[1, 2, 3].index(2)"
   ]
  },
  {
   "cell_type": "markdown",
   "id": "41a2c040-88dc-496c-a678-1bc58cbd9910",
   "metadata": {},
   "source": [
    "## String interpolation"
   ]
  },
  {
   "cell_type": "code",
   "execution_count": 41,
   "id": "fc199f1d-ea7c-4a89-ac74-6873370a44a0",
   "metadata": {},
   "outputs": [],
   "source": [
    "a=123"
   ]
  },
  {
   "cell_type": "code",
   "execution_count": 44,
   "id": "b8424524-c763-4cbc-a21a-978d4d9beb3a",
   "metadata": {},
   "outputs": [
    {
     "data": {
      "text/plain": [
       "'valor = 123.00'"
      ]
     },
     "execution_count": 44,
     "metadata": {},
     "output_type": "execute_result"
    }
   ],
   "source": [
    "f'valor = {a:.2f}'"
   ]
  },
  {
   "cell_type": "code",
   "execution_count": null,
   "id": "fb032965-fa56-4d04-8077-bbeb38f6d4dc",
   "metadata": {},
   "outputs": [],
   "source": []
  }
 ],
 "metadata": {
  "kernelspec": {
   "display_name": "Python 3 (ipykernel)",
   "language": "python",
   "name": "python3"
  },
  "language_info": {
   "codemirror_mode": {
    "name": "ipython",
    "version": 3
   },
   "file_extension": ".py",
   "mimetype": "text/x-python",
   "name": "python",
   "nbconvert_exporter": "python",
   "pygments_lexer": "ipython3",
   "version": "3.12.6"
  }
 },
 "nbformat": 4,
 "nbformat_minor": 5
}
