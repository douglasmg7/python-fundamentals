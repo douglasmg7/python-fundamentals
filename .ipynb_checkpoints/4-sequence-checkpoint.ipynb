{
 "cells": [
  {
   "cell_type": "markdown",
   "id": "44ad6e78-6fd9-4951-8d41-27fe88a64687",
   "metadata": {},
   "source": [
    "# Sequence are ordered collections of objects"
   ]
  },
  {
   "cell_type": "markdown",
   "id": "9495f9e0-38e7-43df-b3d8-6dac52d65454",
   "metadata": {},
   "source": [
    "### Creating list using literal"
   ]
  },
  {
   "cell_type": "code",
   "execution_count": 31,
   "id": "14cbaece-8c93-432e-902a-74cc307ce392",
   "metadata": {},
   "outputs": [],
   "source": [
    "l=[1,2,'a','asdf']"
   ]
  },
  {
   "cell_type": "code",
   "execution_count": 32,
   "id": "63bd90db-001e-46c1-8554-e637f4b2fede",
   "metadata": {},
   "outputs": [
    {
     "data": {
      "text/plain": [
       "'asdf'"
      ]
     },
     "execution_count": 32,
     "metadata": {},
     "output_type": "execute_result"
    }
   ],
   "source": [
    "l[-1]"
   ]
  },
  {
   "cell_type": "code",
   "execution_count": 33,
   "id": "33935d2d-3605-47d9-ab5f-fdbdeea669ce",
   "metadata": {},
   "outputs": [
    {
     "data": {
      "text/plain": [
       "list"
      ]
     },
     "execution_count": 33,
     "metadata": {},
     "output_type": "execute_result"
    }
   ],
   "source": [
    "type(l)"
   ]
  },
  {
   "cell_type": "code",
   "execution_count": 34,
   "id": "a026effd-09c4-4eb5-9c93-49cd2fbebc13",
   "metadata": {},
   "outputs": [
    {
     "data": {
      "text/plain": [
       "1"
      ]
     },
     "execution_count": 34,
     "metadata": {},
     "output_type": "execute_result"
    }
   ],
   "source": [
    "l.pop(0)"
   ]
  },
  {
   "cell_type": "code",
   "execution_count": 35,
   "id": "3b4a4ab5-32d7-48ba-a9d6-348a6bb4f76e",
   "metadata": {},
   "outputs": [
    {
     "data": {
      "text/plain": [
       "[2, 'a', 'asdf']"
      ]
     },
     "execution_count": 35,
     "metadata": {},
     "output_type": "execute_result"
    }
   ],
   "source": [
    "l"
   ]
  },
  {
   "cell_type": "code",
   "execution_count": 36,
   "id": "0d18c03b-dceb-41fb-8127-7930db0d5303",
   "metadata": {},
   "outputs": [
    {
     "data": {
      "text/plain": [
       "3"
      ]
     },
     "execution_count": 36,
     "metadata": {},
     "output_type": "execute_result"
    }
   ],
   "source": [
    "len(l)"
   ]
  },
  {
   "cell_type": "code",
   "execution_count": 37,
   "id": "88665b22-e07f-4476-9f9b-21ec61eda0f6",
   "metadata": {},
   "outputs": [
    {
     "data": {
      "text/plain": [
       "(tuple, (2, 'a', 'asdf'))"
      ]
     },
     "execution_count": 37,
     "metadata": {},
     "output_type": "execute_result"
    }
   ],
   "source": [
    "t_from_l = tuple(l)\n",
    "type(t_from_l), t_from_l"
   ]
  },
  {
   "cell_type": "markdown",
   "id": "fcd3a148-c7e1-4f57-bc3d-d1e9bc2a5dc6",
   "metadata": {},
   "source": [
    "### Creating list using function"
   ]
  },
  {
   "cell_type": "code",
   "execution_count": 38,
   "id": "308669c6-a1e2-44c1-bf8e-79758d101ea9",
   "metadata": {},
   "outputs": [],
   "source": [
    "l2 = list()"
   ]
  },
  {
   "cell_type": "code",
   "execution_count": 39,
   "id": "17bb271c-8248-489c-9299-39bf7029a2f9",
   "metadata": {},
   "outputs": [
    {
     "data": {
      "text/plain": [
       "([], list)"
      ]
     },
     "execution_count": 39,
     "metadata": {},
     "output_type": "execute_result"
    }
   ],
   "source": [
    "l2, type(l2)"
   ]
  },
  {
   "cell_type": "markdown",
   "id": "9293a514-bd58-4e06-abb3-de92dede4e83",
   "metadata": {},
   "source": [
    "## Tuples - Unmutable"
   ]
  },
  {
   "cell_type": "markdown",
   "id": "06175973-5406-4d32-baaa-e7e7e89efbef",
   "metadata": {},
   "source": [
    "### Creating tuble using literal"
   ]
  },
  {
   "cell_type": "code",
   "execution_count": 40,
   "id": "6870eac3-bb51-437a-9beb-f4f9af05312c",
   "metadata": {},
   "outputs": [],
   "source": [
    "t=1,'qwe', True"
   ]
  },
  {
   "cell_type": "code",
   "execution_count": 41,
   "id": "a6438b5c-2bb0-449d-a8fc-cc1fa904a6eb",
   "metadata": {},
   "outputs": [
    {
     "data": {
      "text/plain": [
       "(1, 'qwe', True)"
      ]
     },
     "execution_count": 41,
     "metadata": {},
     "output_type": "execute_result"
    }
   ],
   "source": [
    "t"
   ]
  },
  {
   "cell_type": "code",
   "execution_count": 42,
   "id": "f89cc527-f862-4722-af7b-249aa4f13f74",
   "metadata": {},
   "outputs": [
    {
     "data": {
      "text/plain": [
       "tuple"
      ]
     },
     "execution_count": 42,
     "metadata": {},
     "output_type": "execute_result"
    }
   ],
   "source": [
    "type(t)"
   ]
  },
  {
   "cell_type": "code",
   "execution_count": 43,
   "id": "770d6c9a-b9f6-47c5-994c-91204aaa67f8",
   "metadata": {},
   "outputs": [],
   "source": [
    "t2=tuple()"
   ]
  },
  {
   "cell_type": "code",
   "execution_count": 44,
   "id": "99d3366d-3841-4edd-9f64-addfa234d3f9",
   "metadata": {},
   "outputs": [
    {
     "data": {
      "text/plain": [
       "tuple"
      ]
     },
     "execution_count": 44,
     "metadata": {},
     "output_type": "execute_result"
    }
   ],
   "source": [
    "type(t2)"
   ]
  },
  {
   "cell_type": "code",
   "execution_count": 45,
   "id": "8f36d301-64cb-4ffd-b22b-813357698582",
   "metadata": {},
   "outputs": [],
   "source": [
    "\n",
    "t3=1,[1,2,3]"
   ]
  },
  {
   "cell_type": "code",
   "execution_count": 46,
   "id": "9eeec52e-7a0d-4cca-a1a2-e0bcd366275f",
   "metadata": {},
   "outputs": [],
   "source": [
    "t3[1][0] = 4"
   ]
  },
  {
   "cell_type": "code",
   "execution_count": 47,
   "id": "b5a0ba88-cfe8-4c4e-a308-d4084326e3b1",
   "metadata": {},
   "outputs": [
    {
     "data": {
      "text/plain": [
       "(1, [4, 2, 3])"
      ]
     },
     "execution_count": 47,
     "metadata": {},
     "output_type": "execute_result"
    }
   ],
   "source": [
    "t3 "
   ]
  },
  {
   "cell_type": "code",
   "execution_count": 48,
   "id": "df9d4655-7e56-4f71-b502-07e9287d2a91",
   "metadata": {},
   "outputs": [
    {
     "data": {
      "text/plain": [
       "2"
      ]
     },
     "execution_count": 48,
     "metadata": {},
     "output_type": "execute_result"
    }
   ],
   "source": [
    "len(t3)"
   ]
  },
  {
   "cell_type": "code",
   "execution_count": 49,
   "id": "247a8062-4a70-4e49-b42d-223c0c3c6656",
   "metadata": {},
   "outputs": [],
   "source": [
    "lt = list(t3)"
   ]
  },
  {
   "cell_type": "code",
   "execution_count": 50,
   "id": "a3e87177-5ab2-470c-9a49-d4b5f9da7f2c",
   "metadata": {},
   "outputs": [
    {
     "data": {
      "text/plain": [
       "(list, [1, [4, 2, 3]])"
      ]
     },
     "execution_count": 50,
     "metadata": {},
     "output_type": "execute_result"
    }
   ],
   "source": [
    "type(lt), lt"
   ]
  },
  {
   "cell_type": "code",
   "execution_count": null,
   "id": "36b4444b-4afe-47be-8fd7-628864dc76e4",
   "metadata": {},
   "outputs": [],
   "source": []
  }
 ],
 "metadata": {
  "kernelspec": {
   "display_name": "Python 3 (ipykernel)",
   "language": "python",
   "name": "python3"
  },
  "language_info": {
   "codemirror_mode": {
    "name": "ipython",
    "version": 3
   },
   "file_extension": ".py",
   "mimetype": "text/x-python",
   "name": "python",
   "nbconvert_exporter": "python",
   "pygments_lexer": "ipython3",
   "version": "3.12.6"
  }
 },
 "nbformat": 4,
 "nbformat_minor": 5
}
