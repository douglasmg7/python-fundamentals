{
 "cells": [
  {
   "cell_type": "markdown",
   "id": "44ad6e78-6fd9-4951-8d41-27fe88a64687",
   "metadata": {},
   "source": [
    "# Sequence are ordered collections of objects"
   ]
  },
  {
   "cell_type": "markdown",
   "id": "9495f9e0-38e7-43df-b3d8-6dac52d65454",
   "metadata": {},
   "source": [
    "### Creating list using literal"
   ]
  },
  {
   "cell_type": "code",
   "execution_count": 16,
   "id": "14cbaece-8c93-432e-902a-74cc307ce392",
   "metadata": {},
   "outputs": [],
   "source": [
    "l=[1,2,'a','asdf']"
   ]
  },
  {
   "cell_type": "code",
   "execution_count": 17,
   "id": "63bd90db-001e-46c1-8554-e637f4b2fede",
   "metadata": {},
   "outputs": [
    {
     "data": {
      "text/plain": [
       "'asdf'"
      ]
     },
     "execution_count": 17,
     "metadata": {},
     "output_type": "execute_result"
    }
   ],
   "source": [
    "l[-1]"
   ]
  },
  {
   "cell_type": "code",
   "execution_count": 18,
   "id": "33935d2d-3605-47d9-ab5f-fdbdeea669ce",
   "metadata": {},
   "outputs": [
    {
     "data": {
      "text/plain": [
       "list"
      ]
     },
     "execution_count": 18,
     "metadata": {},
     "output_type": "execute_result"
    }
   ],
   "source": [
    "type(l)"
   ]
  },
  {
   "cell_type": "code",
   "execution_count": 19,
   "id": "a026effd-09c4-4eb5-9c93-49cd2fbebc13",
   "metadata": {},
   "outputs": [
    {
     "data": {
      "text/plain": [
       "1"
      ]
     },
     "execution_count": 19,
     "metadata": {},
     "output_type": "execute_result"
    }
   ],
   "source": [
    "l.pop(0)"
   ]
  },
  {
   "cell_type": "code",
   "execution_count": 20,
   "id": "3b4a4ab5-32d7-48ba-a9d6-348a6bb4f76e",
   "metadata": {},
   "outputs": [
    {
     "data": {
      "text/plain": [
       "[2, 'a', 'asdf']"
      ]
     },
     "execution_count": 20,
     "metadata": {},
     "output_type": "execute_result"
    }
   ],
   "source": [
    "l"
   ]
  },
  {
   "cell_type": "code",
   "execution_count": 21,
   "id": "0d18c03b-dceb-41fb-8127-7930db0d5303",
   "metadata": {},
   "outputs": [
    {
     "data": {
      "text/plain": [
       "3"
      ]
     },
     "execution_count": 21,
     "metadata": {},
     "output_type": "execute_result"
    }
   ],
   "source": [
    "len(l)"
   ]
  },
  {
   "cell_type": "markdown",
   "id": "fcd3a148-c7e1-4f57-bc3d-d1e9bc2a5dc6",
   "metadata": {},
   "source": [
    "### Creating list using function"
   ]
  },
  {
   "cell_type": "code",
   "execution_count": 22,
   "id": "308669c6-a1e2-44c1-bf8e-79758d101ea9",
   "metadata": {},
   "outputs": [],
   "source": [
    "l2 = list()"
   ]
  },
  {
   "cell_type": "code",
   "execution_count": 23,
   "id": "17bb271c-8248-489c-9299-39bf7029a2f9",
   "metadata": {},
   "outputs": [
    {
     "data": {
      "text/plain": [
       "([], list)"
      ]
     },
     "execution_count": 23,
     "metadata": {},
     "output_type": "execute_result"
    }
   ],
   "source": [
    "l2, type(l2)"
   ]
  },
  {
   "cell_type": "code",
   "execution_count": null,
   "id": "e73bf75b-e2d1-41ee-8f0e-78c87d77ae1d",
   "metadata": {},
   "outputs": [],
   "source": []
  }
 ],
 "metadata": {
  "kernelspec": {
   "display_name": "Python 3 (ipykernel)",
   "language": "python",
   "name": "python3"
  },
  "language_info": {
   "codemirror_mode": {
    "name": "ipython",
    "version": 3
   },
   "file_extension": ".py",
   "mimetype": "text/x-python",
   "name": "python",
   "nbconvert_exporter": "python",
   "pygments_lexer": "ipython3",
   "version": "3.12.6"
  }
 },
 "nbformat": 4,
 "nbformat_minor": 5
}
