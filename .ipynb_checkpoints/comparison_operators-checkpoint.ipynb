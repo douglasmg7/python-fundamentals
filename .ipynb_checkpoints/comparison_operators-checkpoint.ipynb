{
 "cells": [
  {
   "cell_type": "markdown",
   "id": "28061302-91d1-41b1-b14d-b08fc9d24251",
   "metadata": {},
   "source": [
    "# Comparison operators"
   ]
  },
  {
   "cell_type": "code",
   "execution_count": 1,
   "id": "a5723fd2-dc84-4647-af29-04734957f28a",
   "metadata": {},
   "outputs": [
    {
     "data": {
      "text/plain": [
       "True"
      ]
     },
     "execution_count": 1,
     "metadata": {},
     "output_type": "execute_result"
    }
   ],
   "source": [
    "1 == 1"
   ]
  },
  {
   "cell_type": "markdown",
   "id": "2a30c90c-869d-47ef-bc30-0b1b42d0a524",
   "metadata": {},
   "source": [
    "### Operands that are not comparable return false"
   ]
  },
  {
   "cell_type": "code",
   "execution_count": 4,
   "id": "edb8c063-900c-4618-a36a-f2110498fab3",
   "metadata": {},
   "outputs": [
    {
     "data": {
      "text/plain": [
       "False"
      ]
     },
     "execution_count": 4,
     "metadata": {},
     "output_type": "execute_result"
    }
   ],
   "source": [
    "1 == '1'"
   ]
  },
  {
   "cell_type": "markdown",
   "id": "658b5497-55c2-4003-b5a5-6093e395de23",
   "metadata": {},
   "source": [
    "### Return a excpetion for others operators if types can not be comparables"
   ]
  },
  {
   "cell_type": "code",
   "execution_count": 3,
   "id": "f17e093a-4b14-4319-bd40-a80c3736135c",
   "metadata": {},
   "outputs": [
    {
     "ename": "TypeError",
     "evalue": "'>' not supported between instances of 'int' and 'str'",
     "output_type": "error",
     "traceback": [
      "\u001b[0;31m---------------------------------------------------------------------------\u001b[0m",
      "\u001b[0;31mTypeError\u001b[0m                                 Traceback (most recent call last)",
      "Cell \u001b[0;32mIn[3], line 1\u001b[0m\n\u001b[0;32m----> 1\u001b[0m \u001b[38;5;241;43m1\u001b[39;49m\u001b[43m \u001b[49m\u001b[38;5;241;43m>\u001b[39;49m\u001b[43m \u001b[49m\u001b[38;5;124;43m'\u001b[39;49m\u001b[38;5;124;43masd\u001b[39;49m\u001b[38;5;124;43m'\u001b[39;49m\n",
      "\u001b[0;31mTypeError\u001b[0m: '>' not supported between instances of 'int' and 'str'"
     ]
    }
   ],
   "source": [
    "1 > 'asd'"
   ]
  },
  {
   "cell_type": "markdown",
   "id": "124a753b-4220-4ff8-bd3e-64206244e4cb",
   "metadata": {},
   "source": [
    "### Do not use equality for floats"
   ]
  },
  {
   "cell_type": "code",
   "execution_count": 5,
   "id": "249f78ae-0047-4f95-a2aa-1c2f22e308ba",
   "metadata": {},
   "outputs": [
    {
     "data": {
      "text/plain": [
       "False"
      ]
     },
     "execution_count": 5,
     "metadata": {},
     "output_type": "execute_result"
    }
   ],
   "source": [
    ".1 + .1 + .1 == .3"
   ]
  },
  {
   "cell_type": "code",
   "execution_count": 6,
   "id": "615d0372-0694-4efb-8057-3563cd4b910b",
   "metadata": {},
   "outputs": [
    {
     "data": {
      "text/plain": [
       "0.30000000000000004"
      ]
     },
     "execution_count": 6,
     "metadata": {},
     "output_type": "execute_result"
    }
   ],
   "source": [
    ".1 + .1 + .1"
   ]
  },
  {
   "cell_type": "markdown",
   "id": "5b7c7fe9-4696-4cf8-97d0-db937cf88bff",
   "metadata": {},
   "source": [
    "### To see if two objects are the same object use \"is\"\n",
    "The is operator is purely concerned with hte memory address."
   ]
  },
  {
   "cell_type": "markdown",
   "id": "645e470b-0d63-4765-8bc9-54c9ef2feb53",
   "metadata": {},
   "source": [
    "### To see it two (compatible) objects are equals in value (in some sense) use \"==\""
   ]
  },
  {
   "cell_type": "markdown",
   "id": "e20cc363-1263-4550-8914-9f2beabc6dbf",
   "metadata": {},
   "source": [
    "### \"==\" operator call dundle \\_\\_eq\\_\\_ under the hoot"
   ]
  },
  {
   "cell_type": "markdown",
   "id": "650b5368-dd07-4f5d-8880-c83b28c26377",
   "metadata": {},
   "source": [
    "### in operator"
   ]
  },
  {
   "cell_type": "code",
   "execution_count": 9,
   "id": "94b46c04-d57a-45af-83a0-953232bcc89c",
   "metadata": {},
   "outputs": [
    {
     "data": {
      "text/plain": [
       "True"
      ]
     },
     "execution_count": 9,
     "metadata": {},
     "output_type": "execute_result"
    }
   ],
   "source": [
    "s = {1, 2, 3}\n",
    "1 in s"
   ]
  },
  {
   "cell_type": "code",
   "execution_count": 10,
   "id": "06a1031d-37a7-4906-89af-405e8541b7e9",
   "metadata": {},
   "outputs": [
    {
     "data": {
      "text/plain": [
       "False"
      ]
     },
     "execution_count": 10,
     "metadata": {},
     "output_type": "execute_result"
    }
   ],
   "source": [
    "1 not in s"
   ]
  },
  {
   "cell_type": "code",
   "execution_count": 11,
   "id": "0ede7cd1-ba7a-4090-8260-4474bf075ad3",
   "metadata": {},
   "outputs": [
    {
     "data": {
      "text/plain": [
       "False"
      ]
     },
     "execution_count": 11,
     "metadata": {},
     "output_type": "execute_result"
    }
   ],
   "source": [
    "0 in s"
   ]
  },
  {
   "cell_type": "code",
   "execution_count": 12,
   "id": "99569fa6-3305-41b8-b843-af1404a775bc",
   "metadata": {},
   "outputs": [
    {
     "data": {
      "text/plain": [
       "True"
      ]
     },
     "execution_count": 12,
     "metadata": {},
     "output_type": "execute_result"
    }
   ],
   "source": [
    "0 not in s"
   ]
  },
  {
   "cell_type": "code",
   "execution_count": null,
   "id": "024f4b16-5322-4e0c-80e4-07f72885d6e0",
   "metadata": {},
   "outputs": [],
   "source": []
  }
 ],
 "metadata": {
  "kernelspec": {
   "display_name": "Python 3 (ipykernel)",
   "language": "python",
   "name": "python3"
  },
  "language_info": {
   "codemirror_mode": {
    "name": "ipython",
    "version": 3
   },
   "file_extension": ".py",
   "mimetype": "text/x-python",
   "name": "python",
   "nbconvert_exporter": "python",
   "pygments_lexer": "ipython3",
   "version": "3.12.6"
  }
 },
 "nbformat": 4,
 "nbformat_minor": 5
}
