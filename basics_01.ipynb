{
 "cells": [
  {
   "cell_type": "markdown",
   "id": "8e529db2-06ff-4a52-b651-1d48a835d5b1",
   "metadata": {},
   "source": [
    "### every thing is a object"
   ]
  },
  {
   "cell_type": "code",
   "execution_count": 37,
   "id": "db4666d8-3ca1-40c5-b0fa-fe9e74d34b77",
   "metadata": {},
   "outputs": [],
   "source": [
    "x=2"
   ]
  },
  {
   "cell_type": "code",
   "execution_count": 38,
   "id": "f13680bf-acf5-4193-9dec-7798936cc6d2",
   "metadata": {},
   "outputs": [
    {
     "data": {
      "text/plain": [
       "5"
      ]
     },
     "execution_count": 38,
     "metadata": {},
     "output_type": "execute_result"
    }
   ],
   "source": [
    "x.__add__(3)"
   ]
  },
  {
   "cell_type": "code",
   "execution_count": 39,
   "id": "f113db2b-058e-469b-86eb-de5f9e8fa893",
   "metadata": {},
   "outputs": [
    {
     "data": {
      "text/plain": [
       "4"
      ]
     },
     "execution_count": 39,
     "metadata": {},
     "output_type": "execute_result"
    }
   ],
   "source": [
    "(2).__add__(2)"
   ]
  },
  {
   "cell_type": "code",
   "execution_count": 40,
   "id": "5cc752c7-8e4b-4b77-bad3-90f1d0a4eefe",
   "metadata": {},
   "outputs": [
    {
     "data": {
      "text/plain": [
       "(1, 8)"
      ]
     },
     "execution_count": 40,
     "metadata": {},
     "output_type": "execute_result"
    }
   ],
   "source": [
    "(.125).as_integer_ratio()"
   ]
  },
  {
   "cell_type": "markdown",
   "id": "821b70a3-db30-4846-8dfc-4ac2e93e9e2b",
   "metadata": {},
   "source": [
    "### camel case"
   ]
  },
  {
   "cell_type": "code",
   "execution_count": 41,
   "id": "1ac5351a-67fc-4a84-aef2-e53b910712d6",
   "metadata": {},
   "outputs": [],
   "source": [
    "accountBalance = 1000_000"
   ]
  },
  {
   "cell_type": "markdown",
   "id": "5090cdda-1a70-4ff4-bc5a-bad023218c11",
   "metadata": {},
   "source": [
    "### snake case - use this in python for variable names"
   ]
  },
  {
   "cell_type": "code",
   "execution_count": 42,
   "id": "9c4ef967-2239-4146-9d85-1a1477f59df1",
   "metadata": {},
   "outputs": [],
   "source": [
    "account_balance = 1000_000"
   ]
  },
  {
   "cell_type": "markdown",
   "id": "36a3bde6-6fc6-4297-be5f-0697fcff74f6",
   "metadata": {},
   "source": [
    "### tuple created"
   ]
  },
  {
   "cell_type": "code",
   "execution_count": 43,
   "id": "71a2dfd3-ab8c-4623-9164-2e2e8e3726e1",
   "metadata": {},
   "outputs": [
    {
     "name": "stdout",
     "output_type": "stream",
     "text": [
      "(2, 5)\n"
     ]
    },
    {
     "data": {
      "text/plain": [
       "tuple"
      ]
     },
     "execution_count": 43,
     "metadata": {},
     "output_type": "execute_result"
    }
   ],
   "source": [
    "y=5\n",
    "z = x, y\n",
    "print(z)\n",
    "type(z)"
   ]
  },
  {
   "cell_type": "markdown",
   "id": "5949b79c-31b3-4939-b5bd-9253f1f12d76",
   "metadata": {},
   "source": [
    "### change object"
   ]
  },
  {
   "cell_type": "code",
   "execution_count": 57,
   "id": "9bde256e-0299-463e-ac3e-3ea74d3e7688",
   "metadata": {},
   "outputs": [
    {
     "data": {
      "text/plain": [
       "10.0"
      ]
     },
     "execution_count": 57,
     "metadata": {},
     "output_type": "execute_result"
    }
   ],
   "source": [
    "some_float = float(10)\n",
    "some_float"
   ]
  },
  {
   "cell_type": "code",
   "execution_count": 58,
   "id": "e46c5c7a-6310-410d-b823-6aebf11ad821",
   "metadata": {},
   "outputs": [
    {
     "data": {
      "text/plain": [
       "3"
      ]
     },
     "execution_count": 58,
     "metadata": {},
     "output_type": "execute_result"
    }
   ],
   "source": [
    "float = 3\n",
    "float"
   ]
  },
  {
   "cell_type": "code",
   "execution_count": 59,
   "id": "9301f357-c62f-4e14-b27f-dd09830989a1",
   "metadata": {},
   "outputs": [
    {
     "data": {
      "text/plain": [
       "int"
      ]
     },
     "execution_count": 59,
     "metadata": {},
     "output_type": "execute_result"
    }
   ],
   "source": [
    "type(float)"
   ]
  },
  {
   "cell_type": "code",
   "execution_count": 60,
   "id": "4437a57c-269a-476d-8468-062e63c4b8e7",
   "metadata": {},
   "outputs": [
    {
     "ename": "TypeError",
     "evalue": "'int' object is not callable",
     "output_type": "error",
     "traceback": [
      "\u001b[0;31m---------------------------------------------------------------------------\u001b[0m",
      "\u001b[0;31mTypeError\u001b[0m                                 Traceback (most recent call last)",
      "Cell \u001b[0;32mIn[60], line 1\u001b[0m\n\u001b[0;32m----> 1\u001b[0m some_float \u001b[38;5;241m=\u001b[39m \u001b[38;5;28;43mfloat\u001b[39;49m\u001b[43m(\u001b[49m\u001b[38;5;241;43m3\u001b[39;49m\u001b[43m)\u001b[49m\n",
      "\u001b[0;31mTypeError\u001b[0m: 'int' object is not callable"
     ]
    }
   ],
   "source": [
    "some_float = float(3)"
   ]
  },
  {
   "cell_type": "code",
   "execution_count": 61,
   "id": "5ef39750-e0b7-4a27-95e0-8ffb539d1ae7",
   "metadata": {},
   "outputs": [],
   "source": [
    "del float"
   ]
  },
  {
   "cell_type": "code",
   "execution_count": 62,
   "id": "ffe8f434",
   "metadata": {},
   "outputs": [
    {
     "data": {
      "text/plain": [
       "3.0"
      ]
     },
     "execution_count": 62,
     "metadata": {},
     "output_type": "execute_result"
    }
   ],
   "source": [
    "some_float = float(3)\n",
    "some_float"
   ]
  },
  {
   "cell_type": "code",
   "execution_count": 63,
   "id": "293055fb-8a6a-4c7e-8e8f-d3b0382b3be7",
   "metadata": {},
   "outputs": [
    {
     "data": {
      "text/plain": [
       "type"
      ]
     },
     "execution_count": 63,
     "metadata": {},
     "output_type": "execute_result"
    }
   ],
   "source": [
    "type(float)"
   ]
  },
  {
   "cell_type": "code",
   "execution_count": null,
   "id": "216d4ccc-3fe7-4215-a231-b764320dd288",
   "metadata": {},
   "outputs": [],
   "source": []
  }
 ],
 "metadata": {
  "kernelspec": {
   "display_name": "Python 3 (ipykernel)",
   "language": "python",
   "name": "python3"
  },
  "language_info": {
   "codemirror_mode": {
    "name": "ipython",
    "version": 3
   },
   "file_extension": ".py",
   "mimetype": "text/x-python",
   "name": "python",
   "nbconvert_exporter": "python",
   "pygments_lexer": "ipython3",
   "version": "3.12.6"
  }
 },
 "nbformat": 4,
 "nbformat_minor": 5
}
