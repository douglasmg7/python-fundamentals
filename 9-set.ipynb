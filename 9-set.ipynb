{
 "cells": [
  {
   "cell_type": "markdown",
   "id": "fc4115a2-f48c-42cb-a4bb-0dc76177d1fd",
   "metadata": {},
   "source": [
    "# Set"
   ]
  },
  {
   "cell_type": "code",
   "execution_count": 1,
   "id": "de5f8ce9-1a8e-4ee5-afd7-4dd445c7b175",
   "metadata": {},
   "outputs": [
    {
     "data": {
      "text/plain": [
       "{1, 2, 3}"
      ]
     },
     "execution_count": 1,
     "metadata": {},
     "output_type": "execute_result"
    }
   ],
   "source": [
    "s = {1, 2, 3}\n",
    "s"
   ]
  },
  {
   "cell_type": "code",
   "execution_count": 2,
   "id": "b3e1c049-3240-43ef-955a-d421add329d7",
   "metadata": {},
   "outputs": [
    {
     "data": {
      "text/plain": [
       "set"
      ]
     },
     "execution_count": 2,
     "metadata": {},
     "output_type": "execute_result"
    }
   ],
   "source": [
    "type(s)"
   ]
  },
  {
   "cell_type": "code",
   "execution_count": 7,
   "id": "e2f3bc87-0f4f-4883-93f9-37fad6c1b0e9",
   "metadata": {},
   "outputs": [
    {
     "data": {
      "text/plain": [
       "{7, 9, 87}"
      ]
     },
     "execution_count": 7,
     "metadata": {},
     "output_type": "execute_result"
    }
   ],
   "source": [
    "s = set([7,87,9,87])\n",
    "s"
   ]
  },
  {
   "cell_type": "code",
   "execution_count": 8,
   "id": "f3647de6-56b6-420b-8dc1-391bce5344eb",
   "metadata": {},
   "outputs": [
    {
     "name": "stdout",
     "output_type": "stream",
     "text": [
      "{'o', 'q', 'p', 'a', 'r'}\n",
      "set()\n"
     ]
    }
   ],
   "source": [
    "s = set('parrot')\n",
    "s.add('q')\n",
    "s.remove('t')\n",
    "print(s)\n",
    "s.clear()\n",
    "print(s)"
   ]
  },
  {
   "cell_type": "markdown",
   "id": "f4497b62-3cdd-45d9-bba3-eac9cffb2f4b",
   "metadata": {},
   "source": [
    "### Discard not rise exception for no itens like remove() do"
   ]
  },
  {
   "cell_type": "code",
   "execution_count": 9,
   "id": "aee0453b-58ff-4f74-8e8c-e265d9cf6929",
   "metadata": {},
   "outputs": [
    {
     "ename": "KeyError",
     "evalue": "'x'",
     "output_type": "error",
     "traceback": [
      "\u001b[0;31m---------------------------------------------------------------------------\u001b[0m",
      "\u001b[0;31mKeyError\u001b[0m                                  Traceback (most recent call last)",
      "Cell \u001b[0;32mIn[9], line 1\u001b[0m\n\u001b[0;32m----> 1\u001b[0m \u001b[43ms\u001b[49m\u001b[38;5;241;43m.\u001b[39;49m\u001b[43mremove\u001b[49m\u001b[43m(\u001b[49m\u001b[38;5;124;43m'\u001b[39;49m\u001b[38;5;124;43mx\u001b[39;49m\u001b[38;5;124;43m'\u001b[39;49m\u001b[43m)\u001b[49m\n",
      "\u001b[0;31mKeyError\u001b[0m: 'x'"
     ]
    }
   ],
   "source": [
    "s.remove('x')"
   ]
  },
  {
   "cell_type": "code",
   "execution_count": 10,
   "id": "eb1dc0cd-a7de-43d0-a635-09b6c9217cbf",
   "metadata": {},
   "outputs": [],
   "source": [
    "s.discard('x')"
   ]
  },
  {
   "cell_type": "markdown",
   "id": "eba29828-7193-44cc-b658-62952b6b2fab",
   "metadata": {},
   "source": [
    "### Two sets is disjoint if they no have elements in common"
   ]
  },
  {
   "cell_type": "code",
   "execution_count": 5,
   "id": "075257bf-69f8-427d-81b2-eaef5632a81c",
   "metadata": {},
   "outputs": [],
   "source": [
    "sa = {1, 2, 3}\n",
    "sb = {3, 4, 5}"
   ]
  },
  {
   "cell_type": "code",
   "execution_count": 6,
   "id": "743ffc23-a1a3-47f9-82c4-05a5460e30c5",
   "metadata": {},
   "outputs": [
    {
     "data": {
      "text/plain": [
       "False"
      ]
     },
     "execution_count": 6,
     "metadata": {},
     "output_type": "execute_result"
    }
   ],
   "source": [
    "sa.isdisjoint(sb)"
   ]
  },
  {
   "cell_type": "code",
   "execution_count": 7,
   "id": "70397d97-ce00-4cb4-9180-17e3f60a4af0",
   "metadata": {
    "scrolled": true
   },
   "outputs": [
    {
     "data": {
      "text/plain": [
       "True"
      ]
     },
     "execution_count": 7,
     "metadata": {},
     "output_type": "execute_result"
    }
   ],
   "source": [
    "sb.remove(3)\n",
    "sa.isdisjoint(sb)"
   ]
  },
  {
   "cell_type": "markdown",
   "id": "eff57d39-1ef7-48f8-b5c7-307352aed213",
   "metadata": {},
   "source": [
    "### Check if subset"
   ]
  },
  {
   "cell_type": "code",
   "execution_count": 21,
   "id": "20680bfc-523d-4517-b798-deeadd1f5b9f",
   "metadata": {},
   "outputs": [
    {
     "data": {
      "text/plain": [
       "True"
      ]
     },
     "execution_count": 21,
     "metadata": {},
     "output_type": "execute_result"
    }
   ],
   "source": [
    "sa = {1, 2, 3}\n",
    "sb = {1, 2, 3, 4}\n",
    "sa < sb"
   ]
  },
  {
   "cell_type": "code",
   "execution_count": 18,
   "id": "9a78f8ab-f5d7-4b10-8ef5-2bf500555126",
   "metadata": {},
   "outputs": [
    {
     "data": {
      "text/plain": [
       "False"
      ]
     },
     "execution_count": 18,
     "metadata": {},
     "output_type": "execute_result"
    }
   ],
   "source": [
    "sa = {1, 2, 3}\n",
    "sb = {1, 2, 3}\n",
    "sa < sb"
   ]
  },
  {
   "cell_type": "code",
   "execution_count": 19,
   "id": "2734aff7-a391-4802-84d4-c9f38e9683c7",
   "metadata": {},
   "outputs": [
    {
     "data": {
      "text/plain": [
       "True"
      ]
     },
     "execution_count": 19,
     "metadata": {},
     "output_type": "execute_result"
    }
   ],
   "source": [
    "sa = {1, 2, 3}\n",
    "sb = {1, 2, 3}\n",
    "sa <= sb"
   ]
  },
  {
   "cell_type": "markdown",
   "id": "56459bbf-a1fd-4f71-b859-e30d14245280",
   "metadata": {},
   "source": [
    "### Union"
   ]
  },
  {
   "cell_type": "code",
   "execution_count": 1,
   "id": "bc353e87-010f-4398-aaed-8637f45b91a6",
   "metadata": {},
   "outputs": [
    {
     "data": {
      "text/plain": [
       "{1, 2, 3, 4, 5}"
      ]
     },
     "execution_count": 1,
     "metadata": {},
     "output_type": "execute_result"
    }
   ],
   "source": [
    "sa = {1, 2, 3}\n",
    "sb = {3, 4, 5}\n",
    "sa | sb"
   ]
  },
  {
   "cell_type": "markdown",
   "id": "c8c6e7e4-7fde-4648-8725-bfda6d2a8cbc",
   "metadata": {},
   "source": [
    "### Intersection"
   ]
  },
  {
   "cell_type": "code",
   "execution_count": 2,
   "id": "6070781a-5fb4-41d1-9558-8ca5b7120f38",
   "metadata": {},
   "outputs": [
    {
     "data": {
      "text/plain": [
       "{3}"
      ]
     },
     "execution_count": 2,
     "metadata": {},
     "output_type": "execute_result"
    }
   ],
   "source": [
    "sa = {1, 2, 3}\n",
    "sb = {3, 4, 5}\n",
    "sa & sb"
   ]
  },
  {
   "cell_type": "markdown",
   "id": "344a843c-06b5-4a77-9309-2bd8c1ed0c26",
   "metadata": {},
   "source": [
    "### Diference"
   ]
  },
  {
   "cell_type": "code",
   "execution_count": 3,
   "id": "ac516b94-fc5e-4fa2-977e-56d959a09c9c",
   "metadata": {},
   "outputs": [
    {
     "data": {
      "text/plain": [
       "{1, 2}"
      ]
     },
     "execution_count": 3,
     "metadata": {},
     "output_type": "execute_result"
    }
   ],
   "source": [
    "sa = {1, 2, 3}\n",
    "sb = {3, 4, 5}\n",
    "sa - sb"
   ]
  },
  {
   "cell_type": "code",
   "execution_count": null,
   "id": "a8d99028-7ff5-4b85-91f8-4c2feb6295f2",
   "metadata": {},
   "outputs": [],
   "source": []
  }
 ],
 "metadata": {
  "kernelspec": {
   "display_name": "Python 3 (ipykernel)",
   "language": "python",
   "name": "python3"
  },
  "language_info": {
   "codemirror_mode": {
    "name": "ipython",
    "version": 3
   },
   "file_extension": ".py",
   "mimetype": "text/x-python",
   "name": "python",
   "nbconvert_exporter": "python",
   "pygments_lexer": "ipython3",
   "version": "3.12.6"
  }
 },
 "nbformat": 4,
 "nbformat_minor": 5
}
