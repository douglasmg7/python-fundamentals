{
 "cells": [
  {
   "cell_type": "markdown",
   "id": "818bb652-790d-4e36-8640-2d7c86989087",
   "metadata": {},
   "source": [
    "# decorators"
   ]
  },
  {
   "cell_type": "code",
   "execution_count": 37,
   "id": "d5f12adf-602d-4a13-af0b-347e1fd6d5be",
   "metadata": {},
   "outputs": [],
   "source": [
    "def wrapper(func):\n",
    "    def inner(*args, **kwargs):\n",
    "        result = func(*args, **kwargs)\n",
    "        return result\n",
    "    return inner"
   ]
  },
  {
   "cell_type": "code",
   "execution_count": 38,
   "id": "4d9dab55-8fab-4e22-a947-2a95d5b95a89",
   "metadata": {},
   "outputs": [],
   "source": [
    "def add(a, b, c):\n",
    "    return a + b + c\n",
    "\n",
    "def greet(name):\n",
    "    return f'Hello {name}'\n",
    "\n",
    "def join(data, *, item_sep=',', line_sep='\\n'):\n",
    "    return line_sep.join(\n",
    "        [\n",
    "            item_sep.join(str(item) for item in row) \n",
    "            for row in data\n",
    "        ]\n",
    "    )"
   ]
  },
  {
   "cell_type": "code",
   "execution_count": 39,
   "id": "a8215ebb-4f88-404d-8228-5ed103201677",
   "metadata": {},
   "outputs": [
    {
     "data": {
      "text/plain": [
       "6"
      ]
     },
     "execution_count": 39,
     "metadata": {},
     "output_type": "execute_result"
    }
   ],
   "source": [
    "add(1, 2, 3)"
   ]
  },
  {
   "cell_type": "code",
   "execution_count": 40,
   "id": "00ee2ca4-b837-49cd-a8b1-ba9ed4397027",
   "metadata": {},
   "outputs": [
    {
     "data": {
      "text/plain": [
       "'Hello Marcos'"
      ]
     },
     "execution_count": 40,
     "metadata": {},
     "output_type": "execute_result"
    }
   ],
   "source": [
    "greet('Marcos')"
   ]
  },
  {
   "cell_type": "code",
   "execution_count": 41,
   "id": "0c15f385-a5f9-49fa-a527-4c24a8472b4f",
   "metadata": {},
   "outputs": [
    {
     "data": {
      "text/plain": [
       "'1-2-3\\n4-5-6\\n7-8-9'"
      ]
     },
     "execution_count": 41,
     "metadata": {},
     "output_type": "execute_result"
    }
   ],
   "source": [
    "join([[1, 2, 3], [4, 5, 6], [7, 8, 9]], item_sep='-')"
   ]
  },
  {
   "cell_type": "code",
   "execution_count": 42,
   "id": "6f42b999-7a0e-4790-a25b-5f04f560fbd7",
   "metadata": {},
   "outputs": [],
   "source": [
    "add_wrapper = wrapper(add)\n",
    "greet_wrapper = wrapper(greet)\n",
    "join_wrapper = wrapper(join)"
   ]
  },
  {
   "cell_type": "code",
   "execution_count": 43,
   "id": "abf2fb1b-fe95-48a8-8580-311beafed743",
   "metadata": {},
   "outputs": [
    {
     "data": {
      "text/plain": [
       "6"
      ]
     },
     "execution_count": 43,
     "metadata": {},
     "output_type": "execute_result"
    }
   ],
   "source": [
    "add_wrapper(1, 2, 3)"
   ]
  },
  {
   "cell_type": "code",
   "execution_count": 44,
   "id": "e403f487-e967-4ffa-8aa7-f0f8725f5b3f",
   "metadata": {},
   "outputs": [
    {
     "data": {
      "text/plain": [
       "'Hello Marcos'"
      ]
     },
     "execution_count": 44,
     "metadata": {},
     "output_type": "execute_result"
    }
   ],
   "source": [
    "greet_wrapper('Marcos')"
   ]
  },
  {
   "cell_type": "code",
   "execution_count": 45,
   "id": "0ae4db6e-c25c-4f7f-a8d0-c4fb3b4a454b",
   "metadata": {},
   "outputs": [
    {
     "data": {
      "text/plain": [
       "'1-2-3\\n4-5-6\\n7-8-9'"
      ]
     },
     "execution_count": 45,
     "metadata": {},
     "output_type": "execute_result"
    }
   ],
   "source": [
    "join_wrapper([[1, 2, 3], [4, 5, 6], [7, 8, 9]], item_sep='-')"
   ]
  },
  {
   "cell_type": "code",
   "execution_count": 46,
   "id": "2e2a1a0b-942d-46cf-b7f0-a5ea4a76d8d9",
   "metadata": {},
   "outputs": [],
   "source": [
    "def log(func):\n",
    "    def inner(*args, **kwargs):\n",
    "        result = func(*args, **kwargs)\n",
    "        print(f'{func.__name__} called...  result={result}')\n",
    "        return result\n",
    "    return inner"
   ]
  },
  {
   "cell_type": "code",
   "execution_count": 47,
   "id": "e5467be3-a2a0-4ad7-8a1a-9a9ca9d4a13c",
   "metadata": {},
   "outputs": [],
   "source": [
    "add_logged = log(add)\n",
    "greet_logged = log(greet)\n",
    "join_logged = log(join)\n"
   ]
  },
  {
   "cell_type": "code",
   "execution_count": 48,
   "id": "9c493fc8-b901-4ef8-a9b9-786a3a1a657b",
   "metadata": {},
   "outputs": [
    {
     "name": "stdout",
     "output_type": "stream",
     "text": [
      "add called...  result=6\n"
     ]
    },
    {
     "data": {
      "text/plain": [
       "6"
      ]
     },
     "execution_count": 48,
     "metadata": {},
     "output_type": "execute_result"
    }
   ],
   "source": [
    "add_logged(1 ,2 ,3)"
   ]
  },
  {
   "cell_type": "code",
   "execution_count": 49,
   "id": "e49605b3-57e3-411b-b6d2-b7fefa5be5e4",
   "metadata": {},
   "outputs": [
    {
     "name": "stdout",
     "output_type": "stream",
     "text": [
      "greet called...  result=Hello Marcos\n"
     ]
    },
    {
     "data": {
      "text/plain": [
       "'Hello Marcos'"
      ]
     },
     "execution_count": 49,
     "metadata": {},
     "output_type": "execute_result"
    }
   ],
   "source": [
    "greet_logged('Marcos')"
   ]
  },
  {
   "cell_type": "code",
   "execution_count": 50,
   "id": "cc6b37b8-1ea9-422e-8c8e-cb8e369f7a69",
   "metadata": {},
   "outputs": [
    {
     "name": "stdout",
     "output_type": "stream",
     "text": [
      "join called...  result=1,2,3\n",
      "4,5,6\n",
      "7,8,9\n"
     ]
    },
    {
     "data": {
      "text/plain": [
       "'1,2,3\\n4,5,6\\n7,8,9'"
      ]
     },
     "execution_count": 50,
     "metadata": {},
     "output_type": "execute_result"
    }
   ],
   "source": [
    "join_logged([[1, 2, 3], [4, 5, 6], [7, 8, 9]])"
   ]
  },
  {
   "cell_type": "code",
   "execution_count": 51,
   "id": "15683eac-aa91-4c8b-9a75-85416beb3063",
   "metadata": {},
   "outputs": [
    {
     "data": {
      "text/plain": [
       "133699784481888"
      ]
     },
     "execution_count": 51,
     "metadata": {},
     "output_type": "execute_result"
    }
   ],
   "source": [
    "add_id = id(add)\n",
    "add_id"
   ]
  },
  {
   "cell_type": "code",
   "execution_count": 52,
   "id": "876ea16e-5a40-41d2-a7c0-a57467ed0897",
   "metadata": {},
   "outputs": [],
   "source": [
    "add = log(add)"
   ]
  },
  {
   "cell_type": "code",
   "execution_count": 53,
   "id": "42067f05-3a17-421f-8601-5bbcdae31689",
   "metadata": {},
   "outputs": [
    {
     "data": {
      "text/plain": [
       "133699784673856"
      ]
     },
     "execution_count": 53,
     "metadata": {},
     "output_type": "execute_result"
    }
   ],
   "source": [
    "id(add)"
   ]
  },
  {
   "cell_type": "code",
   "execution_count": 54,
   "id": "063aa2e1-4129-499a-8e36-27d6c2481aa4",
   "metadata": {},
   "outputs": [
    {
     "data": {
      "text/plain": [
       "(<cell at 0x799968d3c460: function object at 0x799968291c60>,)"
      ]
     },
     "execution_count": 54,
     "metadata": {},
     "output_type": "execute_result"
    }
   ],
   "source": [
    "add.__closure__"
   ]
  },
  {
   "cell_type": "code",
   "execution_count": 55,
   "id": "9884fdaa-c93b-424a-a7be-217a7b0325ab",
   "metadata": {},
   "outputs": [
    {
     "data": {
      "text/plain": [
       "'0x799968291c60'"
      ]
     },
     "execution_count": 55,
     "metadata": {},
     "output_type": "execute_result"
    }
   ],
   "source": [
    "hex(add_id)"
   ]
  },
  {
   "cell_type": "code",
   "execution_count": 56,
   "id": "2a8a8b65-f501-4a41-aa5d-02d4f0142830",
   "metadata": {},
   "outputs": [
    {
     "name": "stdout",
     "output_type": "stream",
     "text": [
      "add called...  result=6\n"
     ]
    },
    {
     "data": {
      "text/plain": [
       "6"
      ]
     },
     "execution_count": 56,
     "metadata": {},
     "output_type": "execute_result"
    }
   ],
   "source": [
    "add(1, 2, 3)"
   ]
  },
  {
   "cell_type": "markdown",
   "id": "e5f06b8f-727a-4d43-b0c2-61c9326194fb",
   "metadata": {},
   "source": [
    "## final pattern"
   ]
  },
  {
   "cell_type": "code",
   "execution_count": 57,
   "id": "1dbe21d2-75f1-4f41-8f87-8c4304384290",
   "metadata": {},
   "outputs": [],
   "source": [
    "def add(a, b, c):\n",
    "    return a + b + c\n",
    "add = log(add)\n",
    "\n",
    "def greet(name):\n",
    "    return f'Hello {name}'\n",
    "greet = log(greet)\n",
    "\n",
    "def join(data, *, item_sep=',', line_sep='\\n'):\n",
    "    return line_sep.join(\n",
    "        [\n",
    "            item_sep.join(str(item) for item in row) \n",
    "            for row in data\n",
    "        ]\n",
    "    )\n",
    "join = log(join)"
   ]
  },
  {
   "cell_type": "code",
   "execution_count": 58,
   "id": "d638680b-a590-46a7-97ef-55629741342a",
   "metadata": {},
   "outputs": [
    {
     "name": "stdout",
     "output_type": "stream",
     "text": [
      "add called...  result=6\n"
     ]
    },
    {
     "data": {
      "text/plain": [
       "6"
      ]
     },
     "execution_count": 58,
     "metadata": {},
     "output_type": "execute_result"
    }
   ],
   "source": [
    "add(1, 2, 3)"
   ]
  },
  {
   "cell_type": "code",
   "execution_count": 59,
   "id": "3fc108fb-9b50-4b1a-a5a5-40cb1fd08a04",
   "metadata": {},
   "outputs": [],
   "source": [
    "@log\n",
    "def add(a, b, c):\n",
    "    return a + b + c"
   ]
  },
  {
   "cell_type": "code",
   "execution_count": 60,
   "id": "1ee1b75d-b3bb-4ee6-ba9f-c8bb6e65b617",
   "metadata": {},
   "outputs": [
    {
     "name": "stdout",
     "output_type": "stream",
     "text": [
      "add called...  result=6\n"
     ]
    },
    {
     "data": {
      "text/plain": [
       "6"
      ]
     },
     "execution_count": 60,
     "metadata": {},
     "output_type": "execute_result"
    }
   ],
   "source": [
    "add(1, 2, 3)"
   ]
  },
  {
   "cell_type": "markdown",
   "id": "36bb14dc-bd36-4804-8639-de1d4591d5f5",
   "metadata": {},
   "source": [
    "## new example"
   ]
  },
  {
   "cell_type": "code",
   "execution_count": 62,
   "id": "2057f193-cbb2-4101-8981-f251be8a6ad2",
   "metadata": {},
   "outputs": [],
   "source": [
    "import logging"
   ]
  },
  {
   "cell_type": "code",
   "execution_count": 64,
   "id": "08ea821d-5c1c-416e-8654-4794845a67eb",
   "metadata": {},
   "outputs": [],
   "source": [
    "logging.basicConfig(\n",
    "    format='%(asctime)s - %(levelname)s - %(message)s',\n",
    "    level=logging.DEBUG\n",
    ")"
   ]
  },
  {
   "cell_type": "code",
   "execution_count": 65,
   "id": "3d5b456a-9b41-48ce-9fc0-37fca035345f",
   "metadata": {},
   "outputs": [],
   "source": [
    "logger = logging.getLogger('Custom log')"
   ]
  },
  {
   "cell_type": "code",
   "execution_count": 66,
   "id": "45ea540c-90db-472d-a32f-a413e293dcc1",
   "metadata": {},
   "outputs": [
    {
     "name": "stderr",
     "output_type": "stream",
     "text": [
      "2024-09-21 08:39:15,571 - DEBUG - oi\n"
     ]
    }
   ],
   "source": [
    "logger.debug('oi')"
   ]
  },
  {
   "cell_type": "code",
   "execution_count": 67,
   "id": "63f8402a-f100-4f70-af1c-7532a9470454",
   "metadata": {},
   "outputs": [
    {
     "name": "stderr",
     "output_type": "stream",
     "text": [
      "2024-09-21 08:39:52,851 - ERROR - some error\n"
     ]
    }
   ],
   "source": [
    "logger.error('some error')"
   ]
  },
  {
   "cell_type": "code",
   "execution_count": 71,
   "id": "0c02e50b-4a24-4a2f-b4e1-b332d6a8a0b8",
   "metadata": {},
   "outputs": [],
   "source": [
    "from time import perf_counter"
   ]
  },
  {
   "cell_type": "code",
   "execution_count": 82,
   "id": "90a42065-a4fc-43b8-9b3e-5de1f5c3c2c5",
   "metadata": {},
   "outputs": [],
   "source": [
    "def log(func):\n",
    "    def inner(*args, **kwargs):\n",
    "        start=perf_counter()\n",
    "        result=func(*args, **kwargs)\n",
    "        end=perf_counter()\n",
    "        logger.debug(f'called={func.__name__}, elapsed={end - start}')\n",
    "        return result\n",
    "    return inner"
   ]
  },
  {
   "cell_type": "code",
   "execution_count": 83,
   "id": "51c029d3-26be-4890-a89e-dd849ea17993",
   "metadata": {},
   "outputs": [],
   "source": [
    "@log\n",
    "def add(a, b, c):\n",
    "    return a + b + c\n"
   ]
  },
  {
   "cell_type": "code",
   "execution_count": 84,
   "id": "81f947de-2781-42a5-bece-7a3921d03ba0",
   "metadata": {},
   "outputs": [
    {
     "name": "stderr",
     "output_type": "stream",
     "text": [
      "2024-09-21 09:10:09,621 - DEBUG - called=add, elapsed=1.272001100005582e-06\n"
     ]
    },
    {
     "data": {
      "text/plain": [
       "6"
      ]
     },
     "execution_count": 84,
     "metadata": {},
     "output_type": "execute_result"
    }
   ],
   "source": [
    "add(1, 2, 3)"
   ]
  },
  {
   "cell_type": "code",
   "execution_count": null,
   "id": "ecaed174-e3bc-4b43-a5bc-0caa4c9ebfa5",
   "metadata": {},
   "outputs": [],
   "source": []
  }
 ],
 "metadata": {
  "kernelspec": {
   "display_name": "Python 3 (ipykernel)",
   "language": "python",
   "name": "python3"
  },
  "language_info": {
   "codemirror_mode": {
    "name": "ipython",
    "version": 3
   },
   "file_extension": ".py",
   "mimetype": "text/x-python",
   "name": "python",
   "nbconvert_exporter": "python",
   "pygments_lexer": "ipython3",
   "version": "3.12.6"
  }
 },
 "nbformat": 4,
 "nbformat_minor": 5
}
